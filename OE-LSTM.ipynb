{
 "cells": [
  {
   "cell_type": "code",
   "execution_count": 2,
   "metadata": {},
   "outputs": [
    {
     "name": "stderr",
     "output_type": "stream",
     "text": [
      "/Users/wesleyfitters/opt/anaconda3/lib/python3.7/site-packages/sklearn/externals/six.py:31: DeprecationWarning: The module is deprecated in version 0.21 and will be removed in version 0.23 since we've dropped support for Python 2.7. Please rely on the official version of six (https://pypi.org/project/six/).\n",
      "  \"(https://pypi.org/project/six/).\", DeprecationWarning)\n"
     ]
    }
   ],
   "source": [
    "import pandas as pd\n",
    "import numpy as np\n",
    "from sklearn.tree import DecisionTreeClassifier\n",
    "from sklearn.model_selection import train_test_split\n",
    "from sklearn import metrics\n",
    "from sklearn import preprocessing\n",
    "from sklearn.externals.six import StringIO  \n",
    "from IPython.display import Image  \n",
    "from sklearn.tree import export_graphviz\n",
    "import pydotplus\n",
    "from sklearn.metrics import confusion_matrix\n",
    "from sklearn import tree\n",
    "from sklearn.model_selection import GridSearchCV\n",
    "from sklearn.metrics import roc_auc_score\n",
    "from sklearn.linear_model import LogisticRegression\n",
    "from sklearn import ensemble\n",
    "from sklearn.ensemble import RandomForestClassifier\n",
    "from sklearn.datasets import make_classification\n",
    "import matplotlib.pyplot as plt\n",
    "from operator import itemgetter\n",
    "from math import sqrt\n",
    "from numpy import concatenate\n",
    "from matplotlib import pyplot\n",
    "from pandas import read_csv\n",
    "from pandas import DataFrame\n",
    "from pandas import concat\n",
    "from sklearn.preprocessing import MinMaxScaler\n",
    "from sklearn.preprocessing import LabelEncoder\n",
    "from sklearn.metrics import mean_squared_error\n",
    "from keras.models import Sequential\n",
    "from keras.layers import Dense\n",
    "from keras.layers import LSTM"
   ]
  },
  {
   "cell_type": "code",
   "execution_count": 3,
   "metadata": {},
   "outputs": [],
   "source": [
    "def MAPE(y_true, y_pred):\n",
    "    y = [x for x in y_true if x > 0]\n",
    "    y_pred = [y_pred[i] for i in range(len(y_true)) if y_true[i] > 0]\n",
    "    num = len(y_pred)\n",
    "    sums = 0\n",
    "    for i in range(num):\n",
    "        tmp = abs(y[i] - y_pred[i]) / y[i]\n",
    "        sums += tmp\n",
    "    mape = sums * (100 / num)\n",
    "    return mape\n",
    "\n",
    "import math\n",
    "def eva_regress(y_true, y_pred):\n",
    "    mape = MAPE(y_true, y_pred)\n",
    "    vs = metrics.explained_variance_score(y_true, y_pred)\n",
    "    mae = metrics.mean_absolute_error(y_true, y_pred)\n",
    "    mse = metrics.mean_squared_error(y_true, y_pred)\n",
    "    r2 = metrics.r2_score(y_true, y_pred)\n",
    "    print('explained_variance_score:%f' % vs)\n",
    "    print('mape:%f%%' % mape)\n",
    "    print('mae:%f' % mae)\n",
    "    print('mse:%f' % mse)\n",
    "    print('rmse:%f' % math.sqrt(mse))\n",
    "    print('r2:%f' % r2)"
   ]
  },
  {
   "cell_type": "code",
   "execution_count": 4,
   "metadata": {},
   "outputs": [],
   "source": [
    "correlations = pd.read_csv('../../DCP-HTO/calculated_correlation/correlation_current.csv')\n",
    "correlations = correlations.drop('Unnamed: 0',axis=1)"
   ]
  },
  {
   "cell_type": "code",
   "execution_count": 5,
   "metadata": {},
   "outputs": [],
   "source": [
    "def one_hot_outliers(df,k):\n",
    "    intersections = df.columns\n",
    "    odf = pd.DataFrame()\n",
    "    for intersection in intersections:\n",
    "        y = df[intersection]\n",
    "        boundary = y.sort_values().head(k)[-1]#Get K lowest LOF score and use as boundary \n",
    "        print('Boundary is set to: ', boundary)\n",
    "        odf['ol_'+intersection] = y.apply(make_binary,boundary=boundary)\n",
    "    return odf\n",
    "    \n",
    "#Make the label a binary of outlier or not.\n",
    "def make_binary(row,boundary):\n",
    "    if row <= boundary:\n",
    "        row = 1\n",
    "    else:\n",
    "        row = 0\n",
    "    return row"
   ]
  },
  {
   "cell_type": "code",
   "execution_count": 6,
   "metadata": {},
   "outputs": [],
   "source": [
    "tflow_file = '../../DCP-HTO/SFPD-LOF/input_data/other_intersections/'\n",
    "tflow = pd.read_csv(tflow_file+'K302.csv',index_col=[\"timestamp\"], parse_dates=True)\n",
    "#sel = ['K173','K414','K158','K402','K305']\n",
    "sel = [\n",
    "    'K173','K414','K158','K402','K305',\n",
    "    'K071','K097','K124','K128','K159','K184','K189','K206','K225','K270','K304','K405','K406','K424','K430','K703','K704','K707','K711','K561','K504','K145','K250',\n",
    "    'a12in','a12out','n211in','n211out','n141in','n141out','n142in','n142out','n143in','n143out'\n",
    "]\n",
    "for i in sel:\n",
    "    #print(i)\n",
    "    x = pd.read_csv(tflow_file+i+'.csv',index_col=[\"timestamp\"], parse_dates=True)\n",
    "    tflow = pd.merge(tflow, x, on='timestamp',how='left')\n",
    "\n",
    "\n",
    "#for f in filenames:\n",
    " #   dataframes.append(pd.read_csv(f))"
   ]
  },
  {
   "cell_type": "code",
   "execution_count": 7,
   "metadata": {},
   "outputs": [],
   "source": [
    "tflow = tflow.fillna(method='ffill')\n",
    "tflow = tflow.fillna(0)"
   ]
  },
  {
   "cell_type": "code",
   "execution_count": 8,
   "metadata": {},
   "outputs": [
    {
     "data": {
      "text/plain": [
       "(152976, 41)"
      ]
     },
     "execution_count": 8,
     "metadata": {},
     "output_type": "execute_result"
    }
   ],
   "source": [
    "tflow.shape"
   ]
  },
  {
   "cell_type": "code",
   "execution_count": 9,
   "metadata": {},
   "outputs": [
    {
     "data": {
      "text/html": [
       "<div>\n",
       "<style scoped>\n",
       "    .dataframe tbody tr th:only-of-type {\n",
       "        vertical-align: middle;\n",
       "    }\n",
       "\n",
       "    .dataframe tbody tr th {\n",
       "        vertical-align: top;\n",
       "    }\n",
       "\n",
       "    .dataframe thead th {\n",
       "        text-align: right;\n",
       "    }\n",
       "</style>\n",
       "<table border=\"1\" class=\"dataframe\">\n",
       "  <thead>\n",
       "    <tr style=\"text-align: right;\">\n",
       "      <th></th>\n",
       "      <th>K302</th>\n",
       "      <th>K173</th>\n",
       "      <th>K414</th>\n",
       "      <th>K158</th>\n",
       "      <th>K402</th>\n",
       "      <th>K305</th>\n",
       "      <th>K071</th>\n",
       "      <th>K097</th>\n",
       "      <th>K124</th>\n",
       "      <th>K128</th>\n",
       "      <th>...</th>\n",
       "      <th>Unnamed: 0_y</th>\n",
       "      <th>a12out</th>\n",
       "      <th>n211in</th>\n",
       "      <th>n211out</th>\n",
       "      <th>n141in</th>\n",
       "      <th>n141out</th>\n",
       "      <th>n142in</th>\n",
       "      <th>n142out</th>\n",
       "      <th>n143in</th>\n",
       "      <th>n143out</th>\n",
       "    </tr>\n",
       "    <tr>\n",
       "      <th>timestamp</th>\n",
       "      <th></th>\n",
       "      <th></th>\n",
       "      <th></th>\n",
       "      <th></th>\n",
       "      <th></th>\n",
       "      <th></th>\n",
       "      <th></th>\n",
       "      <th></th>\n",
       "      <th></th>\n",
       "      <th></th>\n",
       "      <th></th>\n",
       "      <th></th>\n",
       "      <th></th>\n",
       "      <th></th>\n",
       "      <th></th>\n",
       "      <th></th>\n",
       "      <th></th>\n",
       "      <th></th>\n",
       "      <th></th>\n",
       "      <th></th>\n",
       "      <th></th>\n",
       "    </tr>\n",
       "  </thead>\n",
       "  <tbody>\n",
       "    <tr>\n",
       "      <td>2015-01-01 00:00:00</td>\n",
       "      <td>40.0</td>\n",
       "      <td>15.0</td>\n",
       "      <td>0.0</td>\n",
       "      <td>0.0</td>\n",
       "      <td>0.0</td>\n",
       "      <td>49.0</td>\n",
       "      <td>0.0</td>\n",
       "      <td>0.0</td>\n",
       "      <td>0.0</td>\n",
       "      <td>140.0</td>\n",
       "      <td>...</td>\n",
       "      <td>0.0</td>\n",
       "      <td>208.0</td>\n",
       "      <td>0.0</td>\n",
       "      <td>44.0</td>\n",
       "      <td>76.0</td>\n",
       "      <td>40.0</td>\n",
       "      <td>84.0</td>\n",
       "      <td>48.0</td>\n",
       "      <td>40.0</td>\n",
       "      <td>60.0</td>\n",
       "    </tr>\n",
       "    <tr>\n",
       "      <td>2015-01-01 00:15:00</td>\n",
       "      <td>93.0</td>\n",
       "      <td>29.0</td>\n",
       "      <td>0.0</td>\n",
       "      <td>0.0</td>\n",
       "      <td>0.0</td>\n",
       "      <td>131.0</td>\n",
       "      <td>0.0</td>\n",
       "      <td>0.0</td>\n",
       "      <td>0.0</td>\n",
       "      <td>225.0</td>\n",
       "      <td>...</td>\n",
       "      <td>1.0</td>\n",
       "      <td>460.0</td>\n",
       "      <td>0.0</td>\n",
       "      <td>144.0</td>\n",
       "      <td>64.0</td>\n",
       "      <td>64.0</td>\n",
       "      <td>68.0</td>\n",
       "      <td>64.0</td>\n",
       "      <td>32.0</td>\n",
       "      <td>44.0</td>\n",
       "    </tr>\n",
       "    <tr>\n",
       "      <td>2015-01-01 00:30:00</td>\n",
       "      <td>148.0</td>\n",
       "      <td>58.0</td>\n",
       "      <td>0.0</td>\n",
       "      <td>0.0</td>\n",
       "      <td>0.0</td>\n",
       "      <td>227.0</td>\n",
       "      <td>0.0</td>\n",
       "      <td>0.0</td>\n",
       "      <td>0.0</td>\n",
       "      <td>247.0</td>\n",
       "      <td>...</td>\n",
       "      <td>2.0</td>\n",
       "      <td>1044.0</td>\n",
       "      <td>0.0</td>\n",
       "      <td>392.0</td>\n",
       "      <td>160.0</td>\n",
       "      <td>248.0</td>\n",
       "      <td>148.0</td>\n",
       "      <td>280.0</td>\n",
       "      <td>180.0</td>\n",
       "      <td>60.0</td>\n",
       "    </tr>\n",
       "    <tr>\n",
       "      <td>2015-01-01 00:45:00</td>\n",
       "      <td>171.0</td>\n",
       "      <td>69.0</td>\n",
       "      <td>0.0</td>\n",
       "      <td>0.0</td>\n",
       "      <td>0.0</td>\n",
       "      <td>342.0</td>\n",
       "      <td>0.0</td>\n",
       "      <td>0.0</td>\n",
       "      <td>0.0</td>\n",
       "      <td>346.0</td>\n",
       "      <td>...</td>\n",
       "      <td>3.0</td>\n",
       "      <td>1484.0</td>\n",
       "      <td>404.0</td>\n",
       "      <td>468.0</td>\n",
       "      <td>292.0</td>\n",
       "      <td>400.0</td>\n",
       "      <td>296.0</td>\n",
       "      <td>412.0</td>\n",
       "      <td>316.0</td>\n",
       "      <td>152.0</td>\n",
       "    </tr>\n",
       "    <tr>\n",
       "      <td>2015-01-01 01:00:00</td>\n",
       "      <td>181.0</td>\n",
       "      <td>138.0</td>\n",
       "      <td>0.0</td>\n",
       "      <td>0.0</td>\n",
       "      <td>0.0</td>\n",
       "      <td>465.0</td>\n",
       "      <td>0.0</td>\n",
       "      <td>0.0</td>\n",
       "      <td>0.0</td>\n",
       "      <td>323.0</td>\n",
       "      <td>...</td>\n",
       "      <td>4.0</td>\n",
       "      <td>1644.0</td>\n",
       "      <td>648.0</td>\n",
       "      <td>852.0</td>\n",
       "      <td>424.0</td>\n",
       "      <td>608.0</td>\n",
       "      <td>404.0</td>\n",
       "      <td>644.0</td>\n",
       "      <td>404.0</td>\n",
       "      <td>328.0</td>\n",
       "    </tr>\n",
       "  </tbody>\n",
       "</table>\n",
       "<p>5 rows × 41 columns</p>\n",
       "</div>"
      ],
      "text/plain": [
       "                      K302   K173  K414  K158  K402   K305  K071  K097  K124  \\\n",
       "timestamp                                                                      \n",
       "2015-01-01 00:00:00   40.0   15.0   0.0   0.0   0.0   49.0   0.0   0.0   0.0   \n",
       "2015-01-01 00:15:00   93.0   29.0   0.0   0.0   0.0  131.0   0.0   0.0   0.0   \n",
       "2015-01-01 00:30:00  148.0   58.0   0.0   0.0   0.0  227.0   0.0   0.0   0.0   \n",
       "2015-01-01 00:45:00  171.0   69.0   0.0   0.0   0.0  342.0   0.0   0.0   0.0   \n",
       "2015-01-01 01:00:00  181.0  138.0   0.0   0.0   0.0  465.0   0.0   0.0   0.0   \n",
       "\n",
       "                      K128  ...  Unnamed: 0_y  a12out  n211in  n211out  \\\n",
       "timestamp                   ...                                          \n",
       "2015-01-01 00:00:00  140.0  ...           0.0   208.0     0.0     44.0   \n",
       "2015-01-01 00:15:00  225.0  ...           1.0   460.0     0.0    144.0   \n",
       "2015-01-01 00:30:00  247.0  ...           2.0  1044.0     0.0    392.0   \n",
       "2015-01-01 00:45:00  346.0  ...           3.0  1484.0   404.0    468.0   \n",
       "2015-01-01 01:00:00  323.0  ...           4.0  1644.0   648.0    852.0   \n",
       "\n",
       "                     n141in  n141out  n142in  n142out  n143in  n143out  \n",
       "timestamp                                                               \n",
       "2015-01-01 00:00:00    76.0     40.0    84.0     48.0    40.0     60.0  \n",
       "2015-01-01 00:15:00    64.0     64.0    68.0     64.0    32.0     44.0  \n",
       "2015-01-01 00:30:00   160.0    248.0   148.0    280.0   180.0     60.0  \n",
       "2015-01-01 00:45:00   292.0    400.0   296.0    412.0   316.0    152.0  \n",
       "2015-01-01 01:00:00   424.0    608.0   404.0    644.0   404.0    328.0  \n",
       "\n",
       "[5 rows x 41 columns]"
      ]
     },
     "execution_count": 9,
     "metadata": {},
     "output_type": "execute_result"
    }
   ],
   "source": [
    "tflow.head()"
   ]
  },
  {
   "cell_type": "markdown",
   "metadata": {},
   "source": [
    "# All intersection data!"
   ]
  },
  {
   "cell_type": "code",
   "execution_count": 10,
   "metadata": {},
   "outputs": [],
   "source": [
    "# convert series to supervised learning\n",
    "def series_to_supervised(data, n_in=1, n_out=1, dropnan=True):\n",
    "\tn_vars = 1 if type(data) is list else data.shape[1]\n",
    "\tdf = DataFrame(data)\n",
    "\tcols, names = list(), list()\n",
    "\t# input sequence (t-n, ... t-1)\n",
    "\tfor i in range(n_in, 0, -1):\n",
    "\t\tcols.append(df.shift(i))\n",
    "\t\tnames += [('var%d(t-%d)' % (j+1, i)) for j in range(n_vars)]\n",
    "\t# forecast sequence (t, t+1, ... t+n)\n",
    "\tfor i in range(0, n_out):\n",
    "\t\tcols.append(df.shift(-i))\n",
    "\t\tif i == 0:\n",
    "\t\t\tnames += [('var%d(t)' % (j+1)) for j in range(n_vars)]\n",
    "\t\telse:\n",
    "\t\t\tnames += [('var%d(t+%d)' % (j+1, i)) for j in range(n_vars)]\n",
    "\t# put it all together\n",
    "\tagg = concat(cols, axis=1)\n",
    "\tagg.columns = names\n",
    "\t# drop rows with NaN values\n",
    "\tif dropnan:\n",
    "\t\tagg.dropna(inplace=True)\n",
    "\treturn agg"
   ]
  },
  {
   "cell_type": "code",
   "execution_count": 11,
   "metadata": {},
   "outputs": [],
   "source": [
    "# load dataset\n",
    "#dataset = read_csv('https://raw.githubusercontent.com/jbrownlee/Datasets/master/pollution.csv', header=0,index_col=0)\n",
    "values = tflow.values\n",
    "values = values.astype('float32')\n",
    "\n",
    "# normalize features\n",
    "scaler = MinMaxScaler(feature_range=(0, 1))\n",
    "scaled = scaler.fit_transform(values)"
   ]
  },
  {
   "cell_type": "code",
   "execution_count": 12,
   "metadata": {},
   "outputs": [],
   "source": [
    "# specify the number of lag hours\n",
    "n_hours = 12\n",
    "n_features = 41\n",
    "\n",
    "# frame as supervised learning\n",
    "reframed = series_to_supervised(scaled, n_hours, 1)"
   ]
  },
  {
   "cell_type": "code",
   "execution_count": 13,
   "metadata": {},
   "outputs": [],
   "source": [
    "# split into train and test sets\n",
    "values = reframed.values\n",
    "n_train_hours = 140256\n",
    "train = values[:n_train_hours, :]\n",
    "test = values[n_train_hours:, :]"
   ]
  },
  {
   "cell_type": "code",
   "execution_count": 14,
   "metadata": {},
   "outputs": [],
   "source": [
    "# split into input and outputs\n",
    "n_obs = n_hours * n_features"
   ]
  },
  {
   "cell_type": "code",
   "execution_count": 15,
   "metadata": {},
   "outputs": [],
   "source": [
    "train_X, train_y = train[:, :n_obs], train[:, -n_features]"
   ]
  },
  {
   "cell_type": "code",
   "execution_count": 16,
   "metadata": {},
   "outputs": [],
   "source": [
    "test_X, test_y = test[:, :n_obs], test[:, -n_features]"
   ]
  },
  {
   "cell_type": "code",
   "execution_count": 17,
   "metadata": {},
   "outputs": [
    {
     "name": "stdout",
     "output_type": "stream",
     "text": [
      "(140256, 12, 41) (140256,) (12708, 12, 41) (12708,)\n"
     ]
    }
   ],
   "source": [
    "# reshape input to be 3D [samples, timesteps, features]\n",
    "train_X = train_X.reshape((train_X.shape[0], n_hours, n_features))\n",
    "test_X = test_X.reshape((test_X.shape[0], n_hours, n_features))\n",
    "print(train_X.shape, train_y.shape, test_X.shape, test_y.shape)"
   ]
  },
  {
   "cell_type": "code",
   "execution_count": 18,
   "metadata": {},
   "outputs": [
    {
     "name": "stdout",
     "output_type": "stream",
     "text": [
      "Train on 140256 samples, validate on 12708 samples\n",
      "Epoch 1/50\n",
      " - 12s - loss: 0.0321 - val_loss: 0.0336\n",
      "Epoch 2/50\n",
      " - 12s - loss: 0.0256 - val_loss: 0.0320\n",
      "Epoch 3/50\n",
      " - 12s - loss: 0.0243 - val_loss: 0.0323\n",
      "Epoch 4/50\n",
      " - 12s - loss: 0.0235 - val_loss: 0.0301\n",
      "Epoch 5/50\n",
      " - 12s - loss: 0.0228 - val_loss: 0.0305\n",
      "Epoch 6/50\n",
      " - 12s - loss: 0.0224 - val_loss: 0.0308\n",
      "Epoch 7/50\n",
      " - 12s - loss: 0.0222 - val_loss: 0.0303\n",
      "Epoch 8/50\n",
      " - 13s - loss: 0.0219 - val_loss: 0.0295\n",
      "Epoch 9/50\n",
      " - 11s - loss: 0.0216 - val_loss: 0.0291\n",
      "Epoch 10/50\n",
      " - 11s - loss: 0.0213 - val_loss: 0.0298\n",
      "Epoch 11/50\n",
      " - 11s - loss: 0.0212 - val_loss: 0.0284\n",
      "Epoch 12/50\n",
      " - 11s - loss: 0.0210 - val_loss: 0.0290\n",
      "Epoch 13/50\n",
      " - 11s - loss: 0.0208 - val_loss: 0.0288\n",
      "Epoch 14/50\n",
      " - 11s - loss: 0.0207 - val_loss: 0.0284\n",
      "Epoch 15/50\n",
      " - 11s - loss: 0.0206 - val_loss: 0.0282\n",
      "Epoch 16/50\n",
      " - 11s - loss: 0.0205 - val_loss: 0.0287\n",
      "Epoch 17/50\n",
      " - 11s - loss: 0.0204 - val_loss: 0.0282\n",
      "Epoch 18/50\n",
      " - 11s - loss: 0.0203 - val_loss: 0.0274\n",
      "Epoch 19/50\n",
      " - 11s - loss: 0.0202 - val_loss: 0.0272\n",
      "Epoch 20/50\n",
      " - 11s - loss: 0.0201 - val_loss: 0.0270\n",
      "Epoch 21/50\n",
      " - 11s - loss: 0.0201 - val_loss: 0.0277\n",
      "Epoch 22/50\n",
      " - 11s - loss: 0.0201 - val_loss: 0.0266\n",
      "Epoch 23/50\n",
      " - 11s - loss: 0.0199 - val_loss: 0.0271\n",
      "Epoch 24/50\n",
      " - 11s - loss: 0.0199 - val_loss: 0.0260\n",
      "Epoch 25/50\n",
      " - 11s - loss: 0.0198 - val_loss: 0.0272\n",
      "Epoch 26/50\n",
      " - 11s - loss: 0.0198 - val_loss: 0.0260\n",
      "Epoch 27/50\n",
      " - 11s - loss: 0.0198 - val_loss: 0.0262\n",
      "Epoch 28/50\n",
      " - 11s - loss: 0.0196 - val_loss: 0.0264\n",
      "Epoch 29/50\n",
      " - 11s - loss: 0.0196 - val_loss: 0.0259\n",
      "Epoch 30/50\n",
      " - 11s - loss: 0.0196 - val_loss: 0.0257\n",
      "Epoch 31/50\n",
      " - 11s - loss: 0.0196 - val_loss: 0.0260\n",
      "Epoch 32/50\n",
      " - 11s - loss: 0.0195 - val_loss: 0.0258\n",
      "Epoch 33/50\n",
      " - 11s - loss: 0.0194 - val_loss: 0.0256\n",
      "Epoch 34/50\n",
      " - 11s - loss: 0.0194 - val_loss: 0.0258\n",
      "Epoch 35/50\n",
      " - 11s - loss: 0.0193 - val_loss: 0.0257\n",
      "Epoch 36/50\n",
      " - 11s - loss: 0.0192 - val_loss: 0.0256\n",
      "Epoch 37/50\n",
      " - 11s - loss: 0.0192 - val_loss: 0.0252\n",
      "Epoch 38/50\n",
      " - 12s - loss: 0.0192 - val_loss: 0.0252\n",
      "Epoch 39/50\n",
      " - 11s - loss: 0.0191 - val_loss: 0.0252\n",
      "Epoch 40/50\n",
      " - 11s - loss: 0.0191 - val_loss: 0.0253\n",
      "Epoch 41/50\n",
      " - 11s - loss: 0.0190 - val_loss: 0.0253\n",
      "Epoch 42/50\n",
      " - 11s - loss: 0.0189 - val_loss: 0.0251\n",
      "Epoch 43/50\n",
      " - 11s - loss: 0.0189 - val_loss: 0.0250\n",
      "Epoch 44/50\n",
      " - 11s - loss: 0.0190 - val_loss: 0.0252\n",
      "Epoch 45/50\n",
      " - 11s - loss: 0.0189 - val_loss: 0.0256\n",
      "Epoch 46/50\n",
      " - 11s - loss: 0.0188 - val_loss: 0.0255\n",
      "Epoch 47/50\n",
      " - 11s - loss: 0.0188 - val_loss: 0.0252\n",
      "Epoch 48/50\n",
      " - 11s - loss: 0.0187 - val_loss: 0.0250\n",
      "Epoch 49/50\n",
      " - 11s - loss: 0.0188 - val_loss: 0.0255\n",
      "Epoch 50/50\n",
      " - 11s - loss: 0.0187 - val_loss: 0.0249\n"
     ]
    },
    {
     "data": {
      "image/png": "[encoded data removed]",
      "text/plain": [
       "<Figure size 432x288 with 1 Axes>"
      ]
     },
     "metadata": {
      "needs_background": "light"
     },
     "output_type": "display_data"
    }
   ],
   "source": [
    "# design network\n",
    "model = Sequential()\n",
    "model.add(LSTM(50, input_shape=(train_X.shape[1], train_X.shape[2])))\n",
    "model.add(Dense(1))\n",
    "model.compile(loss='mae', optimizer='adam')\n",
    "# fit network\n",
    "history = model.fit(train_X, train_y, epochs=50, batch_size=72, validation_data=(test_X, test_y), verbose=2, shuffle=False)\n",
    "# plot history\n",
    "pyplot.plot(history.history['loss'], label='train')\n",
    "pyplot.plot(history.history['val_loss'], label='test')\n",
    "pyplot.legend()\n",
    "pyplot.show()"
   ]
  },
  {
   "cell_type": "code",
   "execution_count": 19,
   "metadata": {},
   "outputs": [],
   "source": [
    "# make a prediction\n",
    "yhat = model.predict(test_X)\n",
    "test_X = test_X.reshape((test_X.shape[0], n_hours*n_features))"
   ]
  },
  {
   "cell_type": "code",
   "execution_count": 20,
   "metadata": {},
   "outputs": [],
   "source": [
    "# invert scaling for forecast\n",
    "old_inv_yhat = concatenate((yhat, test_X[:, -40:]), axis=1)\n",
    "old_inv_yhat = scaler.inverse_transform(old_inv_yhat)\n",
    "old_inv_yhat = old_inv_yhat[:,0]"
   ]
  },
  {
   "cell_type": "code",
   "execution_count": 21,
   "metadata": {},
   "outputs": [
    {
     "name": "stdout",
     "output_type": "stream",
     "text": [
      "Test RMSE: 47.504\n"
     ]
    }
   ],
   "source": [
    "# invert scaling for actual\n",
    "test_y = test_y.reshape((len(test_y), 1))\n",
    "inv_y = concatenate((test_y, test_X[:, -40:]), axis=1)\n",
    "inv_y = scaler.inverse_transform(inv_y)\n",
    "inv_y = inv_y[:,0]\n",
    "# calculate RMSE\n",
    "rmse = sqrt(mean_squared_error(inv_y, old_inv_yhat))\n",
    "print('Test RMSE: %.3f' % rmse)"
   ]
  },
  {
   "cell_type": "code",
   "execution_count": 22,
   "metadata": {},
   "outputs": [
    {
     "name": "stdout",
     "output_type": "stream",
     "text": [
      "explained_variance_score:0.963188\n",
      "mape:12.182516%\n",
      "mae:26.902325\n",
      "mse:2256.666992\n",
      "rmse:47.504389\n",
      "r2:0.962400\n"
     ]
    }
   ],
   "source": [
    "eva_regress(inv_y, old_inv_yhat)"
   ]
  },
  {
   "cell_type": "code",
   "execution_count": 201,
   "metadata": {},
   "outputs": [],
   "source": [
    "df = {'LSTM':old_inv_yhat[:300],'True data':inv_y[:300]}\n",
    "df = pd.DataFrame(data=df)\n",
    "#df = df.set_index('datetime')"
   ]
  },
  {
   "cell_type": "code",
   "execution_count": 202,
   "metadata": {},
   "outputs": [
    {
     "data": {
      "text/plain": [
       "9124"
      ]
     },
     "execution_count": 202,
     "metadata": {},
     "output_type": "execute_result"
    }
   ],
   "source": [
    "len(inv_y)"
   ]
  },
  {
   "cell_type": "markdown",
   "metadata": {},
   "source": [
    "# Advanced input data"
   ]
  },
  {
   "cell_type": "code",
   "execution_count": 26,
   "metadata": {},
   "outputs": [],
   "source": [
    "#Selection based on dynamic feature reduction\n",
    "sel=['K302',\n",
    " 'K173',\n",
    " 'K414',\n",
    " 'K158',\n",
    " 'K402',\n",
    " 'K305',\n",
    " 'K128',\n",
    " 'K184',\n",
    " 'K206',\n",
    " 'K225',\n",
    " 'K304',\n",
    " 'K406',\n",
    " 'K704',\n",
    " 'K711',\n",
    " 'K561',\n",
    " 'K504',\n",
    " 'K145',\n",
    " 'a12in',\n",
    " 'a12out',\n",
    " 'n211out',\n",
    " 'n141in',\n",
    " 'n141out',\n",
    " 'n142in',\n",
    " 'n143out'\n",
    "    ]"
   ]
  },
  {
   "cell_type": "code",
   "execution_count": 27,
   "metadata": {},
   "outputs": [],
   "source": [
    "fpd = pd.read_csv('../../DCP-HTO/dataframe_creation/complete_dataframe.csv',index_col=0, parse_dates=True)\n",
    "fpd = fpd.fillna(1)\n",
    "fpd_sel = fpd[sel]"
   ]
  },
  {
   "cell_type": "code",
   "execution_count": 28,
   "metadata": {},
   "outputs": [
    {
     "name": "stdout",
     "output_type": "stream",
     "text": [
      "Boundary is set to:  0.7885561944522245\n",
      "Boundary is set to:  0.779821891146718\n",
      "Boundary is set to:  0.8149445361187684\n",
      "Boundary is set to:  0.8505151891376066\n",
      "Boundary is set to:  0.8565726043523633\n",
      "Boundary is set to:  0.8767753856185738\n",
      "Boundary is set to:  0.7525199591873765\n",
      "Boundary is set to:  0.6298304810739711\n",
      "Boundary is set to:  0.8059338513051981\n",
      "Boundary is set to:  0.7227470601760492\n",
      "Boundary is set to:  0.5975604947324116\n",
      "Boundary is set to:  0.6838285319387081\n",
      "Boundary is set to:  0.7807468641783332\n",
      "Boundary is set to:  0.7565255220206187\n",
      "Boundary is set to:  0.7836740937920208\n",
      "Boundary is set to:  0.7760184321476016\n",
      "Boundary is set to:  0.7856204482313128\n",
      "Boundary is set to:  0.8339441072149688\n",
      "Boundary is set to:  0.8302674128695837\n",
      "Boundary is set to:  0.8634860681417491\n",
      "Boundary is set to:  0.7597328303748593\n",
      "Boundary is set to:  0.7776867194037409\n",
      "Boundary is set to:  0.7738571337715838\n",
      "Boundary is set to:  0.6501212945960191\n"
     ]
    }
   ],
   "source": [
    "odf = one_hot_outliers(fpd_sel,50)"
   ]
  },
  {
   "cell_type": "code",
   "execution_count": 29,
   "metadata": {},
   "outputs": [],
   "source": [
    "rodf = odf.resample('15T').pad()"
   ]
  },
  {
   "cell_type": "code",
   "execution_count": 382,
   "metadata": {},
   "outputs": [
    {
     "data": {
      "text/plain": [
       "(148605, 24)"
      ]
     },
     "execution_count": 382,
     "metadata": {},
     "output_type": "execute_result"
    }
   ],
   "source": [
    "rodf.shape"
   ]
  },
  {
   "cell_type": "code",
   "execution_count": 31,
   "metadata": {},
   "outputs": [],
   "source": [
    "rodf.index.name = 'timestamp'"
   ]
  },
  {
   "cell_type": "code",
   "execution_count": 32,
   "metadata": {},
   "outputs": [],
   "source": [
    "tflow_file = '../../DCP-HTO/SFPD-LOF/input_data/other_intersections/'\n",
    "tflow = pd.read_csv(tflow_file+'K302.csv',index_col=[\"timestamp\"], parse_dates=True)\n",
    "for i in sel:\n",
    "    #print(i)\n",
    "    x = pd.read_csv(tflow_file+i+'.csv',index_col=[\"timestamp\"], parse_dates=True)\n",
    "    tflow = pd.merge(tflow, x, on='timestamp',how='left')"
   ]
  },
  {
   "cell_type": "code",
   "execution_count": 33,
   "metadata": {},
   "outputs": [],
   "source": [
    "tflow = tflow.drop(columns=['Unnamed: 0_x','Unnamed: 0_y'],axis=1)"
   ]
  },
  {
   "cell_type": "code",
   "execution_count": 34,
   "metadata": {},
   "outputs": [],
   "source": [
    "tflow = pd.merge(tflow, rodf, on='timestamp',how='left')"
   ]
  },
  {
   "cell_type": "code",
   "execution_count": 35,
   "metadata": {},
   "outputs": [],
   "source": [
    "tflow = tflow.fillna(method='ffill')\n",
    "tflow = tflow.fillna(0)"
   ]
  },
  {
   "cell_type": "code",
   "execution_count": 36,
   "metadata": {},
   "outputs": [],
   "source": [
    "dti = tflow['K414']"
   ]
  },
  {
   "cell_type": "code",
   "execution_count": 37,
   "metadata": {},
   "outputs": [],
   "source": [
    "dti = dti[140256:]"
   ]
  },
  {
   "cell_type": "code",
   "execution_count": 41,
   "metadata": {},
   "outputs": [],
   "source": [
    "# convert series to supervised learning\n",
    "def series_to_supervised(data, n_in=1, n_out=1, dropnan=True):\n",
    "    n_vars = 1 if type(data) is list else data.shape[1]\n",
    "    df = DataFrame(data)\n",
    "    cols, names = list(), list()\n",
    "    # input sequence (t-n, ... t-1)\n",
    "    for i in range(n_in, 0, -1):\n",
    "        cols.append(df.shift(i))\n",
    "        names += [('var%d(t-%d)' % (j+1, i)) for j in range(n_vars)]\n",
    "    # forecast sequence (t, t+1, ... t+n)\n",
    "    for i in range(0, n_out):\n",
    "        cols.append(df.shift(-i))\n",
    "        if i == 0:\n",
    "            names += [('var%d(t)' % (j+1)) for j in range(n_vars)]\n",
    "        else:\n",
    "            names += [('var%d(t+%d)' % (j+1, i)) for j in range(n_vars)]\n",
    "    # put it all together\n",
    "    agg = concat(cols, axis=1)\n",
    "    agg.columns = names\n",
    "    # drop rows with NaN values\n",
    "    if dropnan:\n",
    "        agg.dropna(inplace=True)\n",
    "    return agg"
   ]
  },
  {
   "cell_type": "code",
   "execution_count": 42,
   "metadata": {},
   "outputs": [],
   "source": [
    "values = tflow.values\n",
    "values = values.astype('float32')\n",
    "\n",
    "# normalize features\n",
    "scaler = MinMaxScaler(feature_range=(0, 1))\n",
    "scaled = scaler.fit_transform(values)"
   ]
  },
  {
   "cell_type": "code",
   "execution_count": 43,
   "metadata": {},
   "outputs": [],
   "source": [
    "# specify the number of lag hours\n",
    "n_hours = 12\n",
    "n_features =49\n",
    "\n",
    "# frame as supervised learning\n",
    "reframed = series_to_supervised(scaled, n_hours, 1)"
   ]
  },
  {
   "cell_type": "code",
   "execution_count": 44,
   "metadata": {},
   "outputs": [],
   "source": [
    "# split into train and test sets\n",
    "values = reframed.values\n",
    "n_train_hours = 140256\n",
    "train = values[:n_train_hours, :]\n",
    "test = values[n_train_hours:, :]"
   ]
  },
  {
   "cell_type": "code",
   "execution_count": 45,
   "metadata": {},
   "outputs": [],
   "source": [
    "# split into input and outputs\n",
    "n_obs = n_hours * n_features"
   ]
  },
  {
   "cell_type": "code",
   "execution_count": 46,
   "metadata": {},
   "outputs": [],
   "source": [
    "train_X, train_y = train[:, :n_obs], train[:, -n_features]"
   ]
  },
  {
   "cell_type": "code",
   "execution_count": 47,
   "metadata": {},
   "outputs": [],
   "source": [
    "test_X, test_y = test[:, :n_obs], test[:, -n_features]"
   ]
  },
  {
   "cell_type": "code",
   "execution_count": 48,
   "metadata": {},
   "outputs": [
    {
     "name": "stdout",
     "output_type": "stream",
     "text": [
      "(140256, 12, 49) (140256,) (9124, 12, 49) (9124,)\n"
     ]
    }
   ],
   "source": [
    "# reshape input to be 3D [samples, timesteps, features]\n",
    "train_X = train_X.reshape((train_X.shape[0], n_hours, n_features))\n",
    "test_X = test_X.reshape((test_X.shape[0], n_hours, n_features))\n",
    "print(train_X.shape, train_y.shape, test_X.shape, test_y.shape)"
   ]
  },
  {
   "cell_type": "code",
   "execution_count": 49,
   "metadata": {},
   "outputs": [
    {
     "name": "stdout",
     "output_type": "stream",
     "text": [
      "Train on 140256 samples, validate on 9124 samples\n",
      "Epoch 1/50\n",
      " - 12s - loss: 0.0307 - val_loss: 0.0292\n",
      "Epoch 2/50\n",
      " - 11s - loss: 0.0243 - val_loss: 0.0269\n",
      "Epoch 3/50\n",
      " - 11s - loss: 0.0233 - val_loss: 0.0262\n",
      "Epoch 4/50\n",
      " - 11s - loss: 0.0227 - val_loss: 0.0258\n",
      "Epoch 5/50\n",
      " - 11s - loss: 0.0224 - val_loss: 0.0254\n",
      "Epoch 6/50\n",
      " - 11s - loss: 0.0218 - val_loss: 0.0254\n",
      "Epoch 7/50\n",
      " - 11s - loss: 0.0216 - val_loss: 0.0255\n",
      "Epoch 8/50\n",
      " - 11s - loss: 0.0214 - val_loss: 0.0258\n",
      "Epoch 9/50\n",
      " - 11s - loss: 0.0211 - val_loss: 0.0255\n",
      "Epoch 10/50\n",
      " - 11s - loss: 0.0211 - val_loss: 0.0256\n",
      "Epoch 11/50\n",
      " - 11s - loss: 0.0209 - val_loss: 0.0257\n",
      "Epoch 12/50\n",
      " - 11s - loss: 0.0207 - val_loss: 0.0256\n",
      "Epoch 13/50\n",
      " - 11s - loss: 0.0206 - val_loss: 0.0251\n",
      "Epoch 14/50\n",
      " - 11s - loss: 0.0205 - val_loss: 0.0248\n",
      "Epoch 15/50\n",
      " - 11s - loss: 0.0204 - val_loss: 0.0245\n",
      "Epoch 16/50\n",
      " - 11s - loss: 0.0203 - val_loss: 0.0247\n",
      "Epoch 17/50\n",
      " - 11s - loss: 0.0202 - val_loss: 0.0246\n",
      "Epoch 18/50\n",
      " - 11s - loss: 0.0201 - val_loss: 0.0248\n",
      "Epoch 19/50\n",
      " - 11s - loss: 0.0200 - val_loss: 0.0247\n",
      "Epoch 20/50\n",
      " - 11s - loss: 0.0200 - val_loss: 0.0248\n",
      "Epoch 21/50\n",
      " - 11s - loss: 0.0199 - val_loss: 0.0250\n",
      "Epoch 22/50\n",
      " - 11s - loss: 0.0198 - val_loss: 0.0251\n",
      "Epoch 23/50\n",
      " - 11s - loss: 0.0197 - val_loss: 0.0251\n",
      "Epoch 24/50\n",
      " - 11s - loss: 0.0197 - val_loss: 0.0250\n",
      "Epoch 25/50\n",
      " - 11s - loss: 0.0196 - val_loss: 0.0249\n",
      "Epoch 26/50\n",
      " - 11s - loss: 0.0195 - val_loss: 0.0248\n",
      "Epoch 27/50\n",
      " - 11s - loss: 0.0195 - val_loss: 0.0249\n",
      "Epoch 28/50\n",
      " - 11s - loss: 0.0195 - val_loss: 0.0248\n",
      "Epoch 29/50\n",
      " - 11s - loss: 0.0194 - val_loss: 0.0244\n",
      "Epoch 30/50\n",
      " - 11s - loss: 0.0194 - val_loss: 0.0247\n",
      "Epoch 31/50\n",
      " - 11s - loss: 0.0193 - val_loss: 0.0249\n",
      "Epoch 32/50\n",
      " - 11s - loss: 0.0193 - val_loss: 0.0246\n",
      "Epoch 33/50\n",
      " - 11s - loss: 0.0192 - val_loss: 0.0245\n",
      "Epoch 34/50\n",
      " - 11s - loss: 0.0192 - val_loss: 0.0243\n",
      "Epoch 35/50\n",
      " - 11s - loss: 0.0191 - val_loss: 0.0243\n",
      "Epoch 36/50\n",
      " - 11s - loss: 0.0191 - val_loss: 0.0247\n",
      "Epoch 37/50\n",
      " - 11s - loss: 0.0190 - val_loss: 0.0242\n",
      "Epoch 38/50\n",
      " - 11s - loss: 0.0190 - val_loss: 0.0246\n",
      "Epoch 39/50\n",
      " - 11s - loss: 0.0190 - val_loss: 0.0243\n",
      "Epoch 40/50\n",
      " - 11s - loss: 0.0190 - val_loss: 0.0251\n",
      "Epoch 41/50\n",
      " - 11s - loss: 0.0189 - val_loss: 0.0246\n",
      "Epoch 42/50\n",
      " - 11s - loss: 0.0190 - val_loss: 0.0244\n",
      "Epoch 43/50\n",
      " - 11s - loss: 0.0189 - val_loss: 0.0243\n",
      "Epoch 44/50\n",
      " - 11s - loss: 0.0189 - val_loss: 0.0242\n",
      "Epoch 45/50\n",
      " - 11s - loss: 0.0189 - val_loss: 0.0241\n",
      "Epoch 46/50\n",
      " - 11s - loss: 0.0188 - val_loss: 0.0242\n",
      "Epoch 47/50\n",
      " - 12s - loss: 0.0188 - val_loss: 0.0239\n",
      "Epoch 48/50\n",
      " - 12s - loss: 0.0188 - val_loss: 0.0239\n",
      "Epoch 49/50\n",
      " - 12s - loss: 0.0187 - val_loss: 0.0238\n",
      "Epoch 50/50\n",
      " - 13s - loss: 0.0187 - val_loss: 0.0244\n"
     ]
    },
    {
     "data": {
      "image/png": "[encoded data removed]",
      "text/plain": [
       "<Figure size 432x288 with 1 Axes>"
      ]
     },
     "metadata": {
      "needs_background": "light"
     },
     "output_type": "display_data"
    }
   ],
   "source": [
    "# design network\n",
    "model = Sequential()\n",
    "model.add(LSTM(50, input_shape=(train_X.shape[1], train_X.shape[2])))\n",
    "model.add(Dense(1))\n",
    "model.compile(loss='mae', optimizer='adam')\n",
    "# fit network\n",
    "history = model.fit(train_X, train_y, epochs=50, batch_size=72, validation_data=(test_X, test_y), verbose=2, shuffle=False)\n",
    "# plot history\n",
    "pyplot.plot(history.history['loss'], label='train')\n",
    "pyplot.plot(history.history['val_loss'], label='test')\n",
    "pyplot.legend()\n",
    "pyplot.show()"
   ]
  },
  {
   "cell_type": "code",
   "execution_count": 50,
   "metadata": {},
   "outputs": [],
   "source": [
    "# make a prediction\n",
    "yhat = model.predict(test_X)\n",
    "test_X = test_X.reshape((test_X.shape[0], n_hours*n_features))"
   ]
  },
  {
   "cell_type": "code",
   "execution_count": 51,
   "metadata": {},
   "outputs": [],
   "source": [
    "# invert scaling for forecast\n",
    "inv_yhat = concatenate((yhat, test_X[:, -48:]), axis=1)\n",
    "\n",
    "inv_yhat = scaler.inverse_transform(inv_yhat)\n",
    "inv_yhat = inv_yhat[:,0]"
   ]
  },
  {
   "cell_type": "code",
   "execution_count": 52,
   "metadata": {},
   "outputs": [
    {
     "name": "stdout",
     "output_type": "stream",
     "text": [
      "Test RMSE: 44.716\n"
     ]
    }
   ],
   "source": [
    "# invert scaling for actual\n",
    "test_y = test_y.reshape((len(test_y), 1))\n",
    "inv_y = concatenate((test_y, test_X[:, -48:]), axis=1)\n",
    "inv_y = scaler.inverse_transform(inv_y)\n",
    "inv_y = inv_y[:,0]\n",
    "# calculate RMSE\n",
    "rmse = sqrt(mean_squared_error(inv_y, inv_yhat))\n",
    "print('Test RMSE: %.3f' % rmse)"
   ]
  },
  {
   "cell_type": "code",
   "execution_count": 53,
   "metadata": {},
   "outputs": [
    {
     "name": "stdout",
     "output_type": "stream",
     "text": [
      "explained_variance_score:0.967506\n",
      "mape:10.910447%\n",
      "mae:26.381092\n",
      "mse:1999.513184\n",
      "rmse:44.715916\n",
      "r2:0.967312\n"
     ]
    }
   ],
   "source": [
    "eva_regress(inv_y, inv_yhat)"
   ]
  },
  {
   "cell_type": "code",
   "execution_count": 54,
   "metadata": {},
   "outputs": [],
   "source": [
    "df = {'LSTM':inv_yhat[:300],'True data':inv_y[:300]}\n",
    "df = pd.DataFrame(data=df)\n",
    "#df = df.set_index('datetime')"
   ]
  },
  {
   "cell_type": "code",
   "execution_count": 55,
   "metadata": {},
   "outputs": [
    {
     "data": {
      "text/plain": [
       "<matplotlib.axes._subplots.AxesSubplot at 0x14e0fda90>"
      ]
     },
     "execution_count": 55,
     "metadata": {},
     "output_type": "execute_result"
    },
    {
     "data": {
      "image/png": "[encoded data removed]",
      "text/plain": [
       "<Figure size 1440x720 with 1 Axes>"
      ]
     },
     "metadata": {
      "needs_background": "light"
     },
     "output_type": "display_data"
    }
   ],
   "source": [
    "df.plot(y=['LSTM','True data'],figsize=(20,10),title='Traffic flow outlier predictions')"
   ]
  },
  {
   "cell_type": "code",
   "execution_count": 286,
   "metadata": {},
   "outputs": [],
   "source": [
    "ndti = dti[496:]"
   ]
  },
  {
   "cell_type": "code",
   "execution_count": 287,
   "metadata": {},
   "outputs": [],
   "source": [
    "ndf = {'LSTM':inv_yhat[484:],'True data':inv_y[484:],'datetime':ndti.index}\n",
    "ndf = pd.DataFrame(data=ndf)\n",
    "ndf = ndf.set_index('datetime')"
   ]
  },
  {
   "cell_type": "markdown",
   "metadata": {},
   "source": [
    "# Outlier zoom"
   ]
  },
  {
   "cell_type": "code",
   "execution_count": 288,
   "metadata": {},
   "outputs": [],
   "source": [
    "k302 = pd.read_csv('../dat/traffic_intersection_selection.csv', index_col=[\"timestamp\"], usecols=[\"timestamp\",\"K414\"], parse_dates=True)\n",
    "testol = k302['2019':]\n",
    "testolindex = testol.sort_values('K414').head(10).index\n",
    "strdatetimes = [str(a) for a in testolindex]\n",
    "sliced = []\n",
    "for item in strdatetimes:\n",
    "    sliced.append(item[:13]+':00:00')\n",
    "    sliced.append(item[:13]+':15:00')\n",
    "    sliced.append(item[:13]+':30:00')\n",
    "    sliced.append(item[:13]+':45:00')\n",
    "test_dat = pd.read_csv('../TFP_adapted/data/new_test.csv',parse_dates=['timestamp'])\n",
    "olindexes = test_dat[test_dat.timestamp.isin(sliced)].index"
   ]
  },
  {
   "cell_type": "code",
   "execution_count": 289,
   "metadata": {},
   "outputs": [
    {
     "name": "stderr",
     "output_type": "stream",
     "text": [
      "/Users/wesleyfitters/opt/anaconda3/lib/python3.7/site-packages/ipykernel_launcher.py:4: SettingWithCopyWarning: \n",
      "A value is trying to be set on a copy of a slice from a DataFrame.\n",
      "Try using .loc[row_indexer,col_indexer] = value instead\n",
      "\n",
      "See the caveats in the documentation: http://pandas.pydata.org/pandas-docs/stable/user_guide/indexing.html#returning-a-view-versus-a-copy\n",
      "  after removing the cwd from sys.path.\n"
     ]
    }
   ],
   "source": [
    "andf = ndf[ndf.index.isin(sliced)]\n",
    "def get_diff(row):\n",
    "    return row['True data'] - row ['LSTM']\n",
    "andf['diff'] = andf.apply(get_diff,axis=1)"
   ]
  },
  {
   "cell_type": "code",
   "execution_count": 290,
   "metadata": {},
   "outputs": [],
   "source": [
    "#andf = andf.sort_values('diff',ascending=False)[:10]"
   ]
  },
  {
   "cell_type": "code",
   "execution_count": 291,
   "metadata": {},
   "outputs": [],
   "source": [
    "#andf = andf.drop('diff',axis=1)"
   ]
  },
  {
   "cell_type": "code",
   "execution_count": 292,
   "metadata": {},
   "outputs": [
    {
     "name": "stdout",
     "output_type": "stream",
     "text": [
      "explained_variance_score:0.913650\n",
      "mape:16.879671%\n",
      "mae:14.263777\n",
      "mse:597.229492\n",
      "rmse:24.438279\n",
      "r2:0.906126\n"
     ]
    }
   ],
   "source": [
    "eva_regress(andf['True data'], andf['LSTM'])"
   ]
  },
  {
   "cell_type": "code",
   "execution_count": 293,
   "metadata": {},
   "outputs": [
    {
     "data": {
      "text/plain": [
       "<matplotlib.axes._subplots.AxesSubplot at 0x1642804d0>"
      ]
     },
     "execution_count": 293,
     "metadata": {},
     "output_type": "execute_result"
    },
    {
     "data": {
      "image/png": "[encoded data removed]",
      "text/plain": [
       "<Figure size 1440x720 with 1 Axes>"
      ]
     },
     "metadata": {
      "needs_background": "light"
     },
     "output_type": "display_data"
    }
   ],
   "source": [
    "andf.plot(kind='bar',figsize=(20,10),title='Advanced traffic flow outlier predictions')"
   ]
  },
  {
   "cell_type": "markdown",
   "metadata": {},
   "source": [
    "# OLD"
   ]
  },
  {
   "cell_type": "code",
   "execution_count": 294,
   "metadata": {},
   "outputs": [],
   "source": [
    "old_ndf = {'LSTM':old_inv_yhat[4068:],'True data':inv_y[484:],'datetime':ndti.index}\n",
    "old_ndf = pd.DataFrame(data=old_ndf)\n",
    "old_ndf = old_ndf.set_index('datetime')"
   ]
  },
  {
   "cell_type": "code",
   "execution_count": 295,
   "metadata": {},
   "outputs": [],
   "source": [
    "k302 = pd.read_csv('../dat/traffic_intersection_selection.csv', index_col=[\"timestamp\"], usecols=[\"timestamp\",\"K414\"], parse_dates=True)\n",
    "testol = k302['2019':]\n",
    "testolindex = testol.sort_values('K414').head(10).index\n",
    "strdatetimes = [str(a) for a in testolindex]\n",
    "sliced = []\n",
    "for item in strdatetimes:\n",
    "    sliced.append(item[:13]+':00:00')\n",
    "    sliced.append(item[:13]+':15:00')\n",
    "    sliced.append(item[:13]+':30:00')\n",
    "    sliced.append(item[:13]+':45:00')\n",
    "test_dat = pd.read_csv('../TFP_adapted/data/new_test.csv',parse_dates=['timestamp'])\n",
    "olindexes = test_dat[test_dat.timestamp.isin(sliced)].index"
   ]
  },
  {
   "cell_type": "code",
   "execution_count": 296,
   "metadata": {},
   "outputs": [
    {
     "name": "stderr",
     "output_type": "stream",
     "text": [
      "/Users/wesleyfitters/opt/anaconda3/lib/python3.7/site-packages/ipykernel_launcher.py:4: SettingWithCopyWarning: \n",
      "A value is trying to be set on a copy of a slice from a DataFrame.\n",
      "Try using .loc[row_indexer,col_indexer] = value instead\n",
      "\n",
      "See the caveats in the documentation: http://pandas.pydata.org/pandas-docs/stable/user_guide/indexing.html#returning-a-view-versus-a-copy\n",
      "  after removing the cwd from sys.path.\n"
     ]
    }
   ],
   "source": [
    "bandf = old_ndf[old_ndf.index.isin(sliced)]\n",
    "def get_diff(row):\n",
    "    return row['True data'] - row ['LSTM']\n",
    "bandf['diff'] = bandf.apply(get_diff,axis=1)"
   ]
  },
  {
   "cell_type": "code",
   "execution_count": 297,
   "metadata": {},
   "outputs": [],
   "source": [
    "#bandf = bandf.sort_values('diff',ascending=False)[:10]"
   ]
  },
  {
   "cell_type": "code",
   "execution_count": 298,
   "metadata": {},
   "outputs": [],
   "source": [
    "old_diff = bandf['diff']"
   ]
  },
  {
   "cell_type": "code",
   "execution_count": 299,
   "metadata": {},
   "outputs": [],
   "source": [
    "bandf = bandf.drop('diff',axis=1)\n",
    "bandf = bandf.sort_index()"
   ]
  },
  {
   "cell_type": "code",
   "execution_count": 300,
   "metadata": {},
   "outputs": [
    {
     "name": "stdout",
     "output_type": "stream",
     "text": [
      "explained_variance_score:0.931810\n",
      "mape:31.091121%\n",
      "mae:15.098844\n",
      "mse:467.011871\n",
      "rmse:21.610457\n",
      "r2:0.926594\n"
     ]
    }
   ],
   "source": [
    "eva_regress(bandf['True data'], bandf['LSTM'])"
   ]
  },
  {
   "cell_type": "code",
   "execution_count": 301,
   "metadata": {
    "scrolled": true
   },
   "outputs": [
    {
     "data": {
      "text/plain": [
       "<matplotlib.axes._subplots.AxesSubplot at 0x164111f10>"
      ]
     },
     "execution_count": 301,
     "metadata": {},
     "output_type": "execute_result"
    },
    {
     "data": {
      "image/png": "[encoded data removed]",
      "text/plain": [
       "<Figure size 1440x720 with 1 Axes>"
      ]
     },
     "metadata": {
      "needs_background": "light"
     },
     "output_type": "display_data"
    }
   ],
   "source": [
    "bandf.plot(kind='bar',figsize=(20,10),title='Naive traffic flow outlier predictions')"
   ]
  },
  {
   "cell_type": "code",
   "execution_count": 401,
   "metadata": {},
   "outputs": [],
   "source": [
    "import matplotlib as mpl\n",
    "def plot_results(y_true, y_preds, names):\n",
    "    \"\"\"Plot\n",
    "    Plot the true data and predicted data.\n",
    "\n",
    "    # Arguments\n",
    "        y_true: List/ndarray, ture data.\n",
    "        y_pred: List/ndarray, predicted data.\n",
    "        names: List, Method names.\n",
    "    \"\"\"\n",
    "    d = '2020-1-4 00:00'\n",
    "    x = pd.date_range(d, periods=len(y_true), freq='15min')\n",
    "\n",
    "    fig = plt.figure()\n",
    "    ax = fig.add_subplot(111)\n",
    "    \n",
    "    ax.plot(x, y_preds[0], label=names[0],color='#ff7f0e')\n",
    "    ax.plot(x, y_true, label='True Data',color='#1f77b4')\n",
    "        \n",
    "\n",
    "    plt.legend()\n",
    "    plt.grid(True)\n",
    "    plt.xlabel('Time of Day')\n",
    "    plt.ylabel('Flow')\n",
    "\n",
    "    date_format = mpl.dates.DateFormatter(\"%d-%m %H:%M\")\n",
    "    ax.xaxis.set_major_formatter(date_format)\n",
    "    fig.autofmt_xdate()\n",
    "\n",
    "    plt.show()"
   ]
  },
  {
   "cell_type": "code",
   "execution_count": 402,
   "metadata": {
    "scrolled": true
   },
   "outputs": [
    {
     "data": {
      "image/png": "[encoded data removed]",
      "text/plain": [
       "<Figure size 432x288 with 1 Axes>"
      ]
     },
     "metadata": {
      "needs_background": "light"
     },
     "output_type": "display_data"
    }
   ],
   "source": [
    "plot_pred = [old_ndf['LSTM'][300:600]]\n",
    "plot_true = old_ndf['True data'][300:600]\n",
    "plot_results(plot_true,plot_pred,['Multivariate LSTM'])"
   ]
  },
  {
   "cell_type": "markdown",
   "metadata": {},
   "source": [
    "# Combined plot"
   ]
  },
  {
   "cell_type": "code",
   "execution_count": 307,
   "metadata": {},
   "outputs": [],
   "source": [
    "naive_pred = bandf.LSTM"
   ]
  },
  {
   "cell_type": "code",
   "execution_count": 308,
   "metadata": {},
   "outputs": [
    {
     "name": "stderr",
     "output_type": "stream",
     "text": [
      "/Users/wesleyfitters/opt/anaconda3/lib/python3.7/site-packages/ipykernel_launcher.py:1: SettingWithCopyWarning: \n",
      "A value is trying to be set on a copy of a slice from a DataFrame.\n",
      "Try using .loc[row_indexer,col_indexer] = value instead\n",
      "\n",
      "See the caveats in the documentation: http://pandas.pydata.org/pandas-docs/stable/user_guide/indexing.html#returning-a-view-versus-a-copy\n",
      "  \"\"\"Entry point for launching an IPython kernel.\n",
      "/Users/wesleyfitters/opt/anaconda3/lib/python3.7/site-packages/ipykernel_launcher.py:2: SettingWithCopyWarning: \n",
      "A value is trying to be set on a copy of a slice from a DataFrame.\n",
      "Try using .loc[row_indexer,col_indexer] = value instead\n",
      "\n",
      "See the caveats in the documentation: http://pandas.pydata.org/pandas-docs/stable/user_guide/indexing.html#returning-a-view-versus-a-copy\n",
      "  \n"
     ]
    }
   ],
   "source": [
    "andf['naive'] = naive_pred\n",
    "andf['old_diff'] = old_diff"
   ]
  },
  {
   "cell_type": "code",
   "execution_count": 309,
   "metadata": {},
   "outputs": [
    {
     "data": {
      "text/plain": [
       "<matplotlib.axes._subplots.AxesSubplot at 0x1630989d0>"
      ]
     },
     "execution_count": 309,
     "metadata": {},
     "output_type": "execute_result"
    },
    {
     "data": {
      "image/png": "[encoded data removed]",
      "text/plain": [
       "<Figure size 1440x720 with 1 Axes>"
      ]
     },
     "metadata": {
      "needs_background": "light"
     },
     "output_type": "display_data"
    }
   ],
   "source": [
    "andf[['LSTM','True data','naive']].plot(kind='bar',figsize=(20,10),title='Naive traffic flow outlier predictions')"
   ]
  },
  {
   "cell_type": "markdown",
   "metadata": {},
   "source": [
    "# Hourly"
   ]
  },
  {
   "cell_type": "code",
   "execution_count": 358,
   "metadata": {},
   "outputs": [],
   "source": [
    "nandf = andf.resample('H').first()\n",
    "nandf = nandf[nandf.LSTM >0]\n",
    "#nandf = nandf.drop('diff',axis=1)"
   ]
  },
  {
   "cell_type": "code",
   "execution_count": 359,
   "metadata": {},
   "outputs": [],
   "source": [
    "del nandf.index.name"
   ]
  },
  {
   "cell_type": "code",
   "execution_count": 360,
   "metadata": {},
   "outputs": [],
   "source": [
    "nandf = nandf.rename(columns={\"naive\": \"Multivariate LSTM\"})\n",
    "nandf = nandf.rename(columns={\"LSTM\": \"OE-LSTM\"})"
   ]
  },
  {
   "cell_type": "code",
   "execution_count": 385,
   "metadata": {},
   "outputs": [],
   "source": [
    "temp_ind = nandf.index"
   ]
  },
  {
   "cell_type": "code",
   "execution_count": 392,
   "metadata": {},
   "outputs": [],
   "source": [
    "new_ind = []\n",
    "for item in temp_ind:\n",
    "    new_ind.append(str(item)[5:-3])"
   ]
  },
  {
   "cell_type": "code",
   "execution_count": 394,
   "metadata": {},
   "outputs": [],
   "source": [
    "nandf.index = new_ind"
   ]
  },
  {
   "cell_type": "markdown",
   "metadata": {},
   "source": [
    "# Results"
   ]
  },
  {
   "cell_type": "code",
   "execution_count": 403,
   "metadata": {},
   "outputs": [
    {
     "data": {
      "text/plain": [
       "<matplotlib.axes._subplots.AxesSubplot at 0x16e29dd90>"
      ]
     },
     "execution_count": 403,
     "metadata": {},
     "output_type": "execute_result"
    },
    {
     "data": {
      "image/png": "[encoded data removed]",
      "text/plain": [
       "<Figure size 720x360 with 1 Axes>"
      ]
     },
     "metadata": {
      "needs_background": "light"
     },
     "output_type": "display_data"
    }
   ],
   "source": [
    "nandf[['Multivariate LSTM','True data','OE-LSTM']].plot(kind='bar',figsize=(10,5),fontsize=10,color=['#ff7f0e','#1f77b4','#2ca02c'])"
   ]
  },
  {
   "cell_type": "code",
   "execution_count": 259,
   "metadata": {},
   "outputs": [],
   "source": [
    "#nandf[['diff','old_diff']].abs().plot(kind='bar',figsize=(20,10),title='Advanced traffic flow outlier predictions')"
   ]
  },
  {
   "cell_type": "markdown",
   "metadata": {},
   "source": [
    "# Mapes"
   ]
  },
  {
   "cell_type": "code",
   "execution_count": 341,
   "metadata": {},
   "outputs": [],
   "source": [
    "mape_dat = {'Naive LSTM':[12.18,31.09],'OE-LSTM':[10.91,16.87]}"
   ]
  },
  {
   "cell_type": "code",
   "execution_count": 342,
   "metadata": {},
   "outputs": [],
   "source": [
    "mape_df = pd.DataFrame(mape_dat)"
   ]
  },
  {
   "cell_type": "code",
   "execution_count": 343,
   "metadata": {},
   "outputs": [],
   "source": [
    "mape_df.index = ['All test data','Top outliers']"
   ]
  },
  {
   "cell_type": "code",
   "execution_count": 349,
   "metadata": {},
   "outputs": [
    {
     "data": {
      "image/png": "[encoded data removed]",
      "text/plain": [
       "<Figure size 432x288 with 1 Axes>"
      ]
     },
     "metadata": {
      "needs_background": "light"
     },
     "output_type": "display_data"
    }
   ],
   "source": [
    "color_dict = {'Naive LSTM': '#1f77b4', 'OE-LSTM': '#2ca02c'}\n",
    "\n",
    "# use get to specify dark gray as the default color.\n",
    "mape_df.plot(kind='bar',title='MAPE comparison',color=['#ff7f0e','#2ca02c'])\n",
    "plt.show()"
   ]
  },
  {
   "cell_type": "code",
   "execution_count": null,
   "metadata": {},
   "outputs": [],
   "source": []
  }
 ],
 "metadata": {
  "kernelspec": {
   "display_name": "Python 3",
   "language": "python",
   "name": "python3"
  },
  "language_info": {
   "codemirror_mode": {
    "name": "ipython",
    "version": 3
   },
   "file_extension": ".py",
   "mimetype": "text/x-python",
   "name": "python",
   "nbconvert_exporter": "python",
   "pygments_lexer": "ipython3",
   "version": "3.7.4"
  }
 },
 "nbformat": 4,
 "nbformat_minor": 2
}
