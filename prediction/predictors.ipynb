{
 "cells": [
  {
   "cell_type": "code",
   "execution_count": 3,
   "metadata": {},
   "outputs": [],
   "source": [
    "import pandas as pd\n",
    "import numpy as np\n",
    "from sklearn.tree import DecisionTreeClassifier\n",
    "from sklearn.model_selection import train_test_split\n",
    "from sklearn import metrics\n",
    "from sklearn import preprocessing\n",
    "from sklearn.externals.six import StringIO  \n",
    "from IPython.display import Image  \n",
    "from sklearn.tree import export_graphviz\n",
    "import pydotplus\n",
    "from sklearn.metrics import confusion_matrix\n",
    "from sklearn import tree\n",
    "from sklearn.model_selection import GridSearchCV\n",
    "from sklearn.metrics import roc_auc_score\n",
    "from sklearn.linear_model import LogisticRegression\n",
    "from sklearn import ensemble\n",
    "from sklearn.ensemble import RandomForestClassifier\n",
    "from sklearn.datasets import make_classification\n",
    "import matplotlib.pyplot as plt"
   ]
  },
  {
   "cell_type": "markdown",
   "metadata": {},
   "source": [
    "# Load data"
   ]
  },
  {
   "cell_type": "code",
   "execution_count": 5,
   "metadata": {},
   "outputs": [],
   "source": [
    "fpd = pd.read_csv('../dataframe_creation/complete_dataframe.csv',index_col=0, parse_dates=True)\n",
    "fpd = fpd.fillna(1)"
   ]
  },
  {
   "cell_type": "markdown",
   "metadata": {},
   "source": [
    "# Create predictor\n",
    "Create a function that can take the the data and create a proper predictor for each intersection and store them in a dataframe. Then, it will predict the outcomes for the test dataset and store the results in another dataset."
   ]
  },
  {
   "cell_type": "code",
   "execution_count": 4,
   "metadata": {},
   "outputs": [],
   "source": [
    "def predictor(data,intersections,predictor,k):\n",
    "    predictors = {}\n",
    "    performance = {}\n",
    "    confusion_matrices = {}\n",
    "    features = {}\n",
    "    sel = ['K302','K173','K414','K158','K402','K305']\n",
    "    #print('K is set to ',k)\n",
    "    for label in intersections:\n",
    "        df = data.copy(deep=True)\n",
    "        print('\\nLabel: ',label)\n",
    "        y = df[label][2:] #set label to be current intersection\n",
    "        \n",
    "        boundary = y.sort_values().head(k)[-1]#Get K lowest LOF score and use as boundary \n",
    "        print('Boundary is set to: ',boundary)\n",
    "        y = y.apply(make_binary,boundary=boundary)\n",
    "        \n",
    "        y,y_test = split_data(y)\n",
    "        #print('Length of y: ',len(y))\n",
    "\n",
    "        for feature in intersections: # for each intersection create t-1 & t-2 feature\n",
    "            df['t-1'+feature] = df[feature].shift(periods=1)\n",
    "            df['t-2'+feature] = df[feature].shift(periods=2)\n",
    "            df = df.drop(feature,axis=1) #Then, drop the original column\n",
    "        \n",
    "        if label in sel:\n",
    "            X = df[2:]\n",
    "            X,X_test = split_data(X)\n",
    "            #print('Length of X: ',len(X))\n",
    "\n",
    "            features[label] = X.columns\n",
    "\n",
    "            #Create predictor and get best hyperparameters with grid search\n",
    "            if predictor == 'dtree':\n",
    "                model = dtree_grid_search(X,y)\n",
    "            if predictor == 'lr':\n",
    "                model = lr_grid_search(X,y)\n",
    "            if predictor == 'gb':\n",
    "                model = gb_grid_search(X,y)\n",
    "            if predictor == 'rf':\n",
    "                model = rf_grid_search(X,y)\n",
    "\n",
    "            #Test model performance and print results\n",
    "            y_pred = model.predict(X_test)\n",
    "            try:\n",
    "                auc = roc_auc_score(y_test, y_pred)\n",
    "                accuracy = metrics.accuracy_score(y_test, y_pred)\n",
    "                f1 = metrics.f1_score(y_test, y_pred)\n",
    "                precision = metrics.precision_score(y_test, y_pred)\n",
    "\n",
    "                print('\\nPrediction results: ')\n",
    "                print('Area under the ROC curve: ',auc)\n",
    "            except:\n",
    "                print('!!!Error here when runnig AUC!!!')\n",
    "            print(\"Accuracy:\",accuracy)\n",
    "            print(\"f1:\",f1)\n",
    "            print(\"Precision:\",precision)\n",
    "            print(\"Recall:\",metrics.recall_score(y_test, y_pred))\n",
    "            try:\n",
    "                tn,fp,fn,tp = confusion_matrix(y_test, y_pred).ravel()\n",
    "                print('tn',tn, 'fp',fp, 'fn',fn, 'tp',tp)\n",
    "\n",
    "                predictors[label] = model\n",
    "                performance[label] = auc,accuracy,f1,precision\n",
    "                confusion_matrices[label] = list(confusion_matrix(y_test, y_pred).ravel())\n",
    "            except:\n",
    "                print('!!!Error in last part!!!')\n",
    "        else:\n",
    "            pass\n",
    "        \n",
    "    return predictors,performance,confusion_matrices,features"
   ]
  },
  {
   "cell_type": "code",
   "execution_count": 5,
   "metadata": {},
   "outputs": [],
   "source": [
    "#Split data into train/val and test based on date\n",
    "def split_data(df):\n",
    "    df_test = df['2019-01-01':]\n",
    "    df = df[:'2018-12-31']\n",
    "    return df,df_test\n",
    "\n",
    "#Make the label a binary of outlier or not.\n",
    "def make_binary(row,boundary):\n",
    "    if row <= boundary:\n",
    "        row = 1\n",
    "    else:\n",
    "        row = 0\n",
    "    return row\n",
    "\n",
    "#Hyper parameter selection for Dtree\n",
    "def dtree_grid_search(X,y):\n",
    "    #param_grid = { 'criterion':['gini','entropy']}#,'min_samples_split' : [10]}#,'max_depth': [19]}\n",
    "    dtree_model=DecisionTreeClassifier()\n",
    "    #dtree_gscv = GridSearchCV(dtree_model, param_grid,cv=5, scoring=\"roc_auc\")\n",
    "    dtree_model.fit(X, y)\n",
    "    return dtree_model\n",
    "\n",
    "def lr_grid_search(X,y):\n",
    "    param_grid = {'C': [0.001, 0.01, 0.1, 1, 10], 'solver':['lbfgs'] }\n",
    "    lr = LogisticRegression()\n",
    "    model = GridSearchCV(lr, param_grid,cv=5,scoring=\"roc_auc\")\n",
    "    model.fit(X, y)\n",
    "    return model\n",
    "\n",
    "def gb_grid_search(X,y):\n",
    "    param_grid = {'learning_rate': [0.001, 0.01, 0.1, 1, 10] }\n",
    "    gb = ensemble.GradientBoostingClassifier()\n",
    "    model = GridSearchCV(gb, param_grid,cv=5, scoring=\"roc_auc\")\n",
    "    model.fit(X, y)\n",
    "    return model\n",
    "\n",
    "def rf_grid_search(X,y):\n",
    "    #param_grid = {'n_estimators': [10,100] }\n",
    "    rf = RandomForestClassifier(random_state = 2,n_estimators = 100)\n",
    "    #model = GridSearchCV(rf, param_grid,cv=5, scoring=\"roc_auc\")\n",
    "    rf.fit(X, y)\n",
    "    return rf"
   ]
  },
  {
   "cell_type": "code",
   "execution_count": 17,
   "metadata": {},
   "outputs": [],
   "source": [
    "def plot_scores(auc,f1,prec,title):\n",
    "    # set width of bar\n",
    "    barWidth = 0.25\n",
    "\n",
    "    # Set position of bar on X axis\n",
    "    r1 = np.arange(len(auc))\n",
    "    r2 = [x + barWidth for x in r1]\n",
    "    r3 = [x + barWidth for x in r2]\n",
    "\n",
    "    # Make the plot\n",
    "    plt.figure(figsize=(15,10))\n",
    "    plt.title(title)\n",
    "    plt.bar(r1, auc, color='#7f6d5f', width=barWidth, edgecolor='white', label='auc')\n",
    "    plt.bar(r2, f1, color='#557f2d', width=barWidth, edgecolor='white', label='f1')\n",
    "    plt.bar(r3, prec, color='#2d7f5e', width=barWidth, edgecolor='white', label='prec')\n",
    "\n",
    "    # Add xticks on the middle of the group bars\n",
    "    plt.xlabel('Location', fontweight='bold')\n",
    "    plt.xticks([r + barWidth for r in range(len(auc))], ints)\n",
    "\n",
    "    # Create legend & Show graphic\n",
    "\n",
    "    plt.legend()\n",
    "    plt.show()\n",
    "    return"
   ]
  },
  {
   "cell_type": "markdown",
   "metadata": {},
   "source": [
    "## Testing ground"
   ]
  },
  {
   "cell_type": "code",
   "execution_count": 7,
   "metadata": {},
   "outputs": [],
   "source": [
    "intersections = [\n",
    "    'K302','K173','K414','K158','K402','K305',\n",
    "    'K071','K097','K124','K128','K159','K184','K189','K206','K225','K270','K304','K405','K406','K424','K430','K703','K704','K707','K711','K561','K504','K145','K250',\n",
    "    'a12in','a12out','n211in','n211out','n141in','n141out','n142in','n142out','n143in','n143out'\n",
    "]"
   ]
  },
  {
   "cell_type": "markdown",
   "metadata": {},
   "source": [
    "# Random forest"
   ]
  },
  {
   "cell_type": "code",
   "execution_count": 8,
   "metadata": {},
   "outputs": [
    {
     "name": "stdout",
     "output_type": "stream",
     "text": [
      "\n",
      "Label:  K302\n",
      "Boundary is set to:  0.7306087036925828\n",
      "\n",
      "Prediction results: \n",
      "Area under the ROC curve:  0.7497598463016331\n",
      "Accuracy: 0.9980842911877394\n",
      "f1: 0.6\n",
      "Precision: 0.75\n",
      "Recall: 0.5\n",
      "tn 2081 fp 1 fn 3 tp 3\n",
      "\n",
      "Label:  K173\n",
      "Boundary is set to:  0.7572706754842946\n"
     ]
    },
    {
     "name": "stderr",
     "output_type": "stream",
     "text": [
      "/Users/wesleyfitters/anaconda3/lib/python3.7/site-packages/sklearn/metrics/classification.py:1143: UndefinedMetricWarning: F-score is ill-defined and being set to 0.0 due to no predicted samples.\n",
      "  'precision', 'predicted', average, warn_for)\n",
      "/Users/wesleyfitters/anaconda3/lib/python3.7/site-packages/sklearn/metrics/classification.py:1143: UndefinedMetricWarning: Precision is ill-defined and being set to 0.0 due to no predicted samples.\n",
      "  'precision', 'predicted', average, warn_for)\n"
     ]
    },
    {
     "name": "stdout",
     "output_type": "stream",
     "text": [
      "\n",
      "Prediction results: \n",
      "Area under the ROC curve:  0.5\n",
      "Accuracy: 0.9985632183908046\n",
      "f1: 0.0\n",
      "Precision: 0.0\n",
      "Recall: 0.0\n",
      "tn 2085 fp 0 fn 3 tp 0\n",
      "\n",
      "Label:  K414\n",
      "Boundary is set to:  0.7529919403357282\n",
      "\n",
      "Prediction results: \n",
      "Area under the ROC curve:  0.875\n",
      "Accuracy: 0.9995210727969349\n",
      "f1: 0.8571428571428571\n",
      "Precision: 1.0\n",
      "Recall: 0.75\n",
      "tn 2084 fp 0 fn 1 tp 3\n",
      "\n",
      "Label:  K158\n",
      "Boundary is set to:  0.8219506026354174\n",
      "\n",
      "Prediction results: \n",
      "Area under the ROC curve:  0.8\n",
      "Accuracy: 0.9990421455938697\n",
      "f1: 0.7499999999999999\n",
      "Precision: 1.0\n",
      "Recall: 0.6\n",
      "tn 2083 fp 0 fn 2 tp 3\n",
      "\n",
      "Label:  K402\n",
      "Boundary is set to:  0.8048306217374189\n",
      "\n",
      "Prediction results: \n",
      "Area under the ROC curve:  0.875\n",
      "Accuracy: 0.9995210727969349\n",
      "f1: 0.8571428571428571\n",
      "Precision: 1.0\n",
      "Recall: 0.75\n",
      "tn 2084 fp 0 fn 1 tp 3\n",
      "\n",
      "Label:  K305\n",
      "Boundary is set to:  0.8243633130229433\n",
      "\n",
      "Prediction results: \n",
      "Area under the ROC curve:  0.8\n",
      "Accuracy: 0.9990421455938697\n",
      "f1: 0.7499999999999999\n",
      "Precision: 1.0\n",
      "Recall: 0.6\n",
      "tn 2083 fp 0 fn 2 tp 3\n",
      "\n",
      "Label:  K071\n",
      "Boundary is set to:  0.7698544126651468\n",
      "\n",
      "Label:  K097\n",
      "Boundary is set to:  0.8266954653424617\n",
      "\n",
      "Label:  K124\n",
      "Boundary is set to:  0.8845122400517309\n",
      "\n",
      "Label:  K128\n",
      "Boundary is set to:  0.7525199591873765\n",
      "\n",
      "Label:  K159\n",
      "Boundary is set to:  0.7283456451164059\n",
      "\n",
      "Label:  K184\n",
      "Boundary is set to:  0.6298304810739711\n",
      "\n",
      "Label:  K189\n",
      "Boundary is set to:  0.7474264046781771\n",
      "\n",
      "Label:  K206\n",
      "Boundary is set to:  0.8059338513051981\n",
      "\n",
      "Label:  K225\n",
      "Boundary is set to:  0.7227470601760492\n",
      "\n",
      "Label:  K270\n",
      "Boundary is set to:  0.6670942327576516\n",
      "\n",
      "Label:  K304\n",
      "Boundary is set to:  0.6061800373193578\n",
      "\n",
      "Label:  K405\n",
      "Boundary is set to:  0.8294090524963054\n",
      "\n",
      "Label:  K406\n",
      "Boundary is set to:  0.6861307688075114\n",
      "\n",
      "Label:  K424\n",
      "Boundary is set to:  0.7974031523034429\n",
      "\n",
      "Label:  K430\n",
      "Boundary is set to:  0.8820679461009083\n",
      "\n",
      "Label:  K703\n",
      "Boundary is set to:  0.7789797442796741\n",
      "\n",
      "Label:  K704\n",
      "Boundary is set to:  0.7807468641783332\n",
      "\n",
      "Label:  K707\n",
      "Boundary is set to:  0.6839862197165006\n",
      "\n",
      "Label:  K711\n",
      "Boundary is set to:  0.7565255220206187\n",
      "\n",
      "Label:  K561\n",
      "Boundary is set to:  0.7836740937920208\n",
      "\n",
      "Label:  K504\n",
      "Boundary is set to:  0.7760184321476016\n",
      "\n",
      "Label:  K145\n",
      "Boundary is set to:  0.7856204482313128\n",
      "\n",
      "Label:  K250\n",
      "Boundary is set to:  0.7990394190544982\n",
      "\n",
      "Label:  a12in\n",
      "Boundary is set to:  0.8339441072149688\n",
      "\n",
      "Label:  a12out\n",
      "Boundary is set to:  0.8316789559402853\n",
      "\n",
      "Label:  n211in\n",
      "Boundary is set to:  0.8760953906538197\n",
      "\n",
      "Label:  n211out\n",
      "Boundary is set to:  0.8634860681417491\n",
      "\n",
      "Label:  n141in\n",
      "Boundary is set to:  0.7597328303748593\n",
      "\n",
      "Label:  n141out\n",
      "Boundary is set to:  0.7776867194037409\n",
      "\n",
      "Label:  n142in\n",
      "Boundary is set to:  0.7738571337715838\n",
      "\n",
      "Label:  n142out\n",
      "Boundary is set to:  0.8053433886466536\n",
      "\n",
      "Label:  n143in\n",
      "Boundary is set to:  0.7722724065675556\n",
      "\n",
      "Label:  n143out\n",
      "Boundary is set to:  0.6501212945960191\n"
     ]
    }
   ],
   "source": [
    "a1,a2,a3,a4 = predictor(fpd,intersections,'rf',50)"
   ]
  },
  {
   "cell_type": "code",
   "execution_count": 9,
   "metadata": {},
   "outputs": [],
   "source": [
    "#a110,a210,a310,a410 = predictor(fpd,intersections,'rf',10)"
   ]
  },
  {
   "cell_type": "code",
   "execution_count": 10,
   "metadata": {},
   "outputs": [],
   "source": [
    "#a125,a225,a325,a425 = predictor(fpd,intersections,'rf',25)"
   ]
  },
  {
   "cell_type": "code",
   "execution_count": 11,
   "metadata": {},
   "outputs": [],
   "source": [
    "#a150,a250,a350,a450 = predictor(fpd,intersections,'rf',50)"
   ]
  },
  {
   "cell_type": "code",
   "execution_count": 9,
   "metadata": {},
   "outputs": [],
   "source": [
    "#a175,a275,a375,a475 = predictor(fpd,intersections,'rf',75)"
   ]
  },
  {
   "cell_type": "code",
   "execution_count": 8,
   "metadata": {},
   "outputs": [],
   "source": [
    "#a1100,a2100,a3100,a4100 = predictor(fpd,intersections,'rf',100)"
   ]
  },
  {
   "cell_type": "code",
   "execution_count": 7,
   "metadata": {},
   "outputs": [],
   "source": [
    "#a1150,a2150,a3150,a4150 = predictor(fpd,intersections,'rf',150)"
   ]
  },
  {
   "cell_type": "code",
   "execution_count": 6,
   "metadata": {},
   "outputs": [],
   "source": [
    "#a1300,a2300,a3300,a4300 = predictor(fpd,intersections,'rf',300)"
   ]
  },
  {
   "cell_type": "code",
   "execution_count": 3,
   "metadata": {},
   "outputs": [],
   "source": [
    "#a1500,a2500,a3500,a4500 = predictor(fpd,intersections,'rf',500)"
   ]
  },
  {
   "cell_type": "code",
   "execution_count": 4,
   "metadata": {},
   "outputs": [],
   "source": [
    "#a11000,a21000,a31000,a41000 = predictor(fpd,intersections,'rf',1000)"
   ]
  },
  {
   "cell_type": "code",
   "execution_count": 5,
   "metadata": {},
   "outputs": [],
   "source": [
    "#a15000,a25000,a35000,a45000 = predictor(fpd,intersections,'rf',5000)"
   ]
  },
  {
   "cell_type": "markdown",
   "metadata": {},
   "source": [
    "# Dec. Tree"
   ]
  },
  {
   "cell_type": "code",
   "execution_count": 12,
   "metadata": {},
   "outputs": [
    {
     "name": "stdout",
     "output_type": "stream",
     "text": [
      "\n",
      "Label:  K302\n",
      "Boundary is set to:  0.7306087036925828\n",
      "\n",
      "Prediction results: \n",
      "Area under the ROC curve:  0.7497598463016331\n",
      "Accuracy: 0.9980842911877394\n",
      "f1: 0.6\n",
      "Precision: 0.75\n",
      "Recall: 0.5\n",
      "tn 2081 fp 1 fn 3 tp 3\n",
      "\n",
      "Label:  K173\n",
      "Boundary is set to:  0.7572706754842946\n",
      "\n",
      "Prediction results: \n",
      "Area under the ROC curve:  0.6666666666666666\n",
      "Accuracy: 0.9990421455938697\n",
      "f1: 0.5\n",
      "Precision: 1.0\n",
      "Recall: 0.3333333333333333\n",
      "tn 2085 fp 0 fn 2 tp 1\n",
      "\n",
      "Label:  K414\n",
      "Boundary is set to:  0.7529919403357282\n",
      "\n",
      "Prediction results: \n",
      "Area under the ROC curve:  0.8742802303262956\n",
      "Accuracy: 0.9980842911877394\n",
      "f1: 0.6\n",
      "Precision: 0.5\n",
      "Recall: 0.75\n",
      "tn 2081 fp 3 fn 1 tp 3\n",
      "\n",
      "Label:  K158\n",
      "Boundary is set to:  0.8219506026354174\n",
      "\n",
      "Prediction results: \n",
      "Area under the ROC curve:  0.7995199231877101\n",
      "Accuracy: 0.9980842911877394\n",
      "f1: 0.6\n",
      "Precision: 0.6\n",
      "Recall: 0.6\n",
      "tn 2081 fp 2 fn 2 tp 3\n",
      "\n",
      "Label:  K402\n",
      "Boundary is set to:  0.8048306217374189\n",
      "\n",
      "Prediction results: \n",
      "Area under the ROC curve:  0.875\n",
      "Accuracy: 0.9995210727969349\n",
      "f1: 0.8571428571428571\n",
      "Precision: 1.0\n",
      "Recall: 0.75\n",
      "tn 2084 fp 0 fn 1 tp 3\n",
      "\n",
      "Label:  K305\n",
      "Boundary is set to:  0.8243633130229433\n",
      "\n",
      "Prediction results: \n",
      "Area under the ROC curve:  0.6\n",
      "Accuracy: 0.9980842911877394\n",
      "f1: 0.33333333333333337\n",
      "Precision: 1.0\n",
      "Recall: 0.2\n",
      "tn 2083 fp 0 fn 4 tp 1\n",
      "\n",
      "Label:  K071\n",
      "Boundary is set to:  0.7698544126651468\n",
      "\n",
      "Label:  K097\n",
      "Boundary is set to:  0.8266954653424617\n",
      "\n",
      "Label:  K124\n",
      "Boundary is set to:  0.8845122400517309\n",
      "\n",
      "Label:  K128\n",
      "Boundary is set to:  0.7525199591873765\n",
      "\n",
      "Label:  K159\n",
      "Boundary is set to:  0.7283456451164059\n",
      "\n",
      "Label:  K184\n",
      "Boundary is set to:  0.6298304810739711\n",
      "\n",
      "Label:  K189\n",
      "Boundary is set to:  0.7474264046781771\n",
      "\n",
      "Label:  K206\n",
      "Boundary is set to:  0.8059338513051981\n",
      "\n",
      "Label:  K225\n",
      "Boundary is set to:  0.7227470601760492\n",
      "\n",
      "Label:  K270\n",
      "Boundary is set to:  0.6670942327576516\n",
      "\n",
      "Label:  K304\n",
      "Boundary is set to:  0.6061800373193578\n",
      "\n",
      "Label:  K405\n",
      "Boundary is set to:  0.8294090524963054\n",
      "\n",
      "Label:  K406\n",
      "Boundary is set to:  0.6861307688075114\n",
      "\n",
      "Label:  K424\n",
      "Boundary is set to:  0.7974031523034429\n",
      "\n",
      "Label:  K430\n",
      "Boundary is set to:  0.8820679461009083\n",
      "\n",
      "Label:  K703\n",
      "Boundary is set to:  0.7789797442796741\n",
      "\n",
      "Label:  K704\n",
      "Boundary is set to:  0.7807468641783332\n",
      "\n",
      "Label:  K707\n",
      "Boundary is set to:  0.6839862197165006\n",
      "\n",
      "Label:  K711\n",
      "Boundary is set to:  0.7565255220206187\n",
      "\n",
      "Label:  K561\n",
      "Boundary is set to:  0.7836740937920208\n",
      "\n",
      "Label:  K504\n",
      "Boundary is set to:  0.7760184321476016\n",
      "\n",
      "Label:  K145\n",
      "Boundary is set to:  0.7856204482313128\n",
      "\n",
      "Label:  K250\n",
      "Boundary is set to:  0.7990394190544982\n",
      "\n",
      "Label:  a12in\n",
      "Boundary is set to:  0.8339441072149688\n",
      "\n",
      "Label:  a12out\n",
      "Boundary is set to:  0.8316789559402853\n",
      "\n",
      "Label:  n211in\n",
      "Boundary is set to:  0.8760953906538197\n",
      "\n",
      "Label:  n211out\n",
      "Boundary is set to:  0.8634860681417491\n",
      "\n",
      "Label:  n141in\n",
      "Boundary is set to:  0.7597328303748593\n",
      "\n",
      "Label:  n141out\n",
      "Boundary is set to:  0.7776867194037409\n",
      "\n",
      "Label:  n142in\n",
      "Boundary is set to:  0.7738571337715838\n",
      "\n",
      "Label:  n142out\n",
      "Boundary is set to:  0.8053433886466536\n",
      "\n",
      "Label:  n143in\n",
      "Boundary is set to:  0.7722724065675556\n",
      "\n",
      "Label:  n143out\n",
      "Boundary is set to:  0.6501212945960191\n"
     ]
    }
   ],
   "source": [
    "b1,b2,b3,b4 = predictor(fpd,intersections,'dtree',50)"
   ]
  },
  {
   "cell_type": "markdown",
   "metadata": {},
   "source": [
    "# Logistic regression"
   ]
  },
  {
   "cell_type": "code",
   "execution_count": 13,
   "metadata": {},
   "outputs": [
    {
     "name": "stdout",
     "output_type": "stream",
     "text": [
      "\n",
      "Label:  K302\n",
      "Boundary is set to:  0.7306087036925828\n"
     ]
    },
    {
     "name": "stderr",
     "output_type": "stream",
     "text": [
      "/Users/wesleyfitters/anaconda3/lib/python3.7/site-packages/sklearn/linear_model/logistic.py:758: ConvergenceWarning: lbfgs failed to converge. Increase the number of iterations.\n",
      "  \"of iterations.\", ConvergenceWarning)\n",
      "/Users/wesleyfitters/anaconda3/lib/python3.7/site-packages/sklearn/linear_model/logistic.py:758: ConvergenceWarning: lbfgs failed to converge. Increase the number of iterations.\n",
      "  \"of iterations.\", ConvergenceWarning)\n",
      "/Users/wesleyfitters/anaconda3/lib/python3.7/site-packages/sklearn/linear_model/logistic.py:758: ConvergenceWarning: lbfgs failed to converge. Increase the number of iterations.\n",
      "  \"of iterations.\", ConvergenceWarning)\n",
      "/Users/wesleyfitters/anaconda3/lib/python3.7/site-packages/sklearn/linear_model/logistic.py:758: ConvergenceWarning: lbfgs failed to converge. Increase the number of iterations.\n",
      "  \"of iterations.\", ConvergenceWarning)\n",
      "/Users/wesleyfitters/anaconda3/lib/python3.7/site-packages/sklearn/linear_model/logistic.py:758: ConvergenceWarning: lbfgs failed to converge. Increase the number of iterations.\n",
      "  \"of iterations.\", ConvergenceWarning)\n",
      "/Users/wesleyfitters/anaconda3/lib/python3.7/site-packages/sklearn/linear_model/logistic.py:758: ConvergenceWarning: lbfgs failed to converge. Increase the number of iterations.\n",
      "  \"of iterations.\", ConvergenceWarning)\n",
      "/Users/wesleyfitters/anaconda3/lib/python3.7/site-packages/sklearn/linear_model/logistic.py:758: ConvergenceWarning: lbfgs failed to converge. Increase the number of iterations.\n",
      "  \"of iterations.\", ConvergenceWarning)\n",
      "/Users/wesleyfitters/anaconda3/lib/python3.7/site-packages/sklearn/linear_model/logistic.py:758: ConvergenceWarning: lbfgs failed to converge. Increase the number of iterations.\n",
      "  \"of iterations.\", ConvergenceWarning)\n",
      "/Users/wesleyfitters/anaconda3/lib/python3.7/site-packages/sklearn/linear_model/logistic.py:758: ConvergenceWarning: lbfgs failed to converge. Increase the number of iterations.\n",
      "  \"of iterations.\", ConvergenceWarning)\n"
     ]
    },
    {
     "name": "stdout",
     "output_type": "stream",
     "text": [
      "\n",
      "Prediction results: \n",
      "Area under the ROC curve:  0.7497598463016331\n",
      "Accuracy: 0.9980842911877394\n",
      "f1: 0.6\n",
      "Precision: 0.75\n",
      "Recall: 0.5\n",
      "tn 2081 fp 1 fn 3 tp 3\n",
      "\n",
      "Label:  K173\n",
      "Boundary is set to:  0.7572706754842946\n"
     ]
    },
    {
     "name": "stderr",
     "output_type": "stream",
     "text": [
      "/Users/wesleyfitters/anaconda3/lib/python3.7/site-packages/sklearn/linear_model/logistic.py:758: ConvergenceWarning: lbfgs failed to converge. Increase the number of iterations.\n",
      "  \"of iterations.\", ConvergenceWarning)\n",
      "/Users/wesleyfitters/anaconda3/lib/python3.7/site-packages/sklearn/linear_model/logistic.py:758: ConvergenceWarning: lbfgs failed to converge. Increase the number of iterations.\n",
      "  \"of iterations.\", ConvergenceWarning)\n",
      "/Users/wesleyfitters/anaconda3/lib/python3.7/site-packages/sklearn/linear_model/logistic.py:758: ConvergenceWarning: lbfgs failed to converge. Increase the number of iterations.\n",
      "  \"of iterations.\", ConvergenceWarning)\n",
      "/Users/wesleyfitters/anaconda3/lib/python3.7/site-packages/sklearn/linear_model/logistic.py:758: ConvergenceWarning: lbfgs failed to converge. Increase the number of iterations.\n",
      "  \"of iterations.\", ConvergenceWarning)\n",
      "/Users/wesleyfitters/anaconda3/lib/python3.7/site-packages/sklearn/linear_model/logistic.py:758: ConvergenceWarning: lbfgs failed to converge. Increase the number of iterations.\n",
      "  \"of iterations.\", ConvergenceWarning)\n",
      "/Users/wesleyfitters/anaconda3/lib/python3.7/site-packages/sklearn/linear_model/logistic.py:758: ConvergenceWarning: lbfgs failed to converge. Increase the number of iterations.\n",
      "  \"of iterations.\", ConvergenceWarning)\n",
      "/Users/wesleyfitters/anaconda3/lib/python3.7/site-packages/sklearn/linear_model/logistic.py:758: ConvergenceWarning: lbfgs failed to converge. Increase the number of iterations.\n",
      "  \"of iterations.\", ConvergenceWarning)\n",
      "/Users/wesleyfitters/anaconda3/lib/python3.7/site-packages/sklearn/linear_model/logistic.py:758: ConvergenceWarning: lbfgs failed to converge. Increase the number of iterations.\n",
      "  \"of iterations.\", ConvergenceWarning)\n"
     ]
    },
    {
     "name": "stdout",
     "output_type": "stream",
     "text": [
      "\n",
      "Prediction results: \n",
      "Area under the ROC curve:  0.6666666666666666\n",
      "Accuracy: 0.9990421455938697\n",
      "f1: 0.5\n",
      "Precision: 1.0\n",
      "Recall: 0.3333333333333333\n",
      "tn 2085 fp 0 fn 2 tp 1\n",
      "\n",
      "Label:  K414\n",
      "Boundary is set to:  0.7529919403357282\n"
     ]
    },
    {
     "name": "stderr",
     "output_type": "stream",
     "text": [
      "/Users/wesleyfitters/anaconda3/lib/python3.7/site-packages/sklearn/linear_model/logistic.py:758: ConvergenceWarning: lbfgs failed to converge. Increase the number of iterations.\n",
      "  \"of iterations.\", ConvergenceWarning)\n",
      "/Users/wesleyfitters/anaconda3/lib/python3.7/site-packages/sklearn/linear_model/logistic.py:758: ConvergenceWarning: lbfgs failed to converge. Increase the number of iterations.\n",
      "  \"of iterations.\", ConvergenceWarning)\n",
      "/Users/wesleyfitters/anaconda3/lib/python3.7/site-packages/sklearn/linear_model/logistic.py:758: ConvergenceWarning: lbfgs failed to converge. Increase the number of iterations.\n",
      "  \"of iterations.\", ConvergenceWarning)\n",
      "/Users/wesleyfitters/anaconda3/lib/python3.7/site-packages/sklearn/linear_model/logistic.py:758: ConvergenceWarning: lbfgs failed to converge. Increase the number of iterations.\n",
      "  \"of iterations.\", ConvergenceWarning)\n",
      "/Users/wesleyfitters/anaconda3/lib/python3.7/site-packages/sklearn/linear_model/logistic.py:758: ConvergenceWarning: lbfgs failed to converge. Increase the number of iterations.\n",
      "  \"of iterations.\", ConvergenceWarning)\n",
      "/Users/wesleyfitters/anaconda3/lib/python3.7/site-packages/sklearn/linear_model/logistic.py:758: ConvergenceWarning: lbfgs failed to converge. Increase the number of iterations.\n",
      "  \"of iterations.\", ConvergenceWarning)\n",
      "/Users/wesleyfitters/anaconda3/lib/python3.7/site-packages/sklearn/linear_model/logistic.py:758: ConvergenceWarning: lbfgs failed to converge. Increase the number of iterations.\n",
      "  \"of iterations.\", ConvergenceWarning)\n",
      "/Users/wesleyfitters/anaconda3/lib/python3.7/site-packages/sklearn/linear_model/logistic.py:758: ConvergenceWarning: lbfgs failed to converge. Increase the number of iterations.\n",
      "  \"of iterations.\", ConvergenceWarning)\n",
      "/Users/wesleyfitters/anaconda3/lib/python3.7/site-packages/sklearn/linear_model/logistic.py:758: ConvergenceWarning: lbfgs failed to converge. Increase the number of iterations.\n",
      "  \"of iterations.\", ConvergenceWarning)\n"
     ]
    },
    {
     "name": "stdout",
     "output_type": "stream",
     "text": [
      "\n",
      "Prediction results: \n",
      "Area under the ROC curve:  0.875\n",
      "Accuracy: 0.9995210727969349\n",
      "f1: 0.8571428571428571\n",
      "Precision: 1.0\n",
      "Recall: 0.75\n",
      "tn 2084 fp 0 fn 1 tp 3\n",
      "\n",
      "Label:  K158\n",
      "Boundary is set to:  0.8219506026354174\n"
     ]
    },
    {
     "name": "stderr",
     "output_type": "stream",
     "text": [
      "/Users/wesleyfitters/anaconda3/lib/python3.7/site-packages/sklearn/linear_model/logistic.py:758: ConvergenceWarning: lbfgs failed to converge. Increase the number of iterations.\n",
      "  \"of iterations.\", ConvergenceWarning)\n",
      "/Users/wesleyfitters/anaconda3/lib/python3.7/site-packages/sklearn/linear_model/logistic.py:758: ConvergenceWarning: lbfgs failed to converge. Increase the number of iterations.\n",
      "  \"of iterations.\", ConvergenceWarning)\n",
      "/Users/wesleyfitters/anaconda3/lib/python3.7/site-packages/sklearn/linear_model/logistic.py:758: ConvergenceWarning: lbfgs failed to converge. Increase the number of iterations.\n",
      "  \"of iterations.\", ConvergenceWarning)\n",
      "/Users/wesleyfitters/anaconda3/lib/python3.7/site-packages/sklearn/linear_model/logistic.py:758: ConvergenceWarning: lbfgs failed to converge. Increase the number of iterations.\n",
      "  \"of iterations.\", ConvergenceWarning)\n",
      "/Users/wesleyfitters/anaconda3/lib/python3.7/site-packages/sklearn/linear_model/logistic.py:758: ConvergenceWarning: lbfgs failed to converge. Increase the number of iterations.\n",
      "  \"of iterations.\", ConvergenceWarning)\n",
      "/Users/wesleyfitters/anaconda3/lib/python3.7/site-packages/sklearn/linear_model/logistic.py:758: ConvergenceWarning: lbfgs failed to converge. Increase the number of iterations.\n",
      "  \"of iterations.\", ConvergenceWarning)\n",
      "/Users/wesleyfitters/anaconda3/lib/python3.7/site-packages/sklearn/linear_model/logistic.py:758: ConvergenceWarning: lbfgs failed to converge. Increase the number of iterations.\n",
      "  \"of iterations.\", ConvergenceWarning)\n",
      "/Users/wesleyfitters/anaconda3/lib/python3.7/site-packages/sklearn/linear_model/logistic.py:758: ConvergenceWarning: lbfgs failed to converge. Increase the number of iterations.\n",
      "  \"of iterations.\", ConvergenceWarning)\n",
      "/Users/wesleyfitters/anaconda3/lib/python3.7/site-packages/sklearn/linear_model/logistic.py:758: ConvergenceWarning: lbfgs failed to converge. Increase the number of iterations.\n",
      "  \"of iterations.\", ConvergenceWarning)\n",
      "/Users/wesleyfitters/anaconda3/lib/python3.7/site-packages/sklearn/linear_model/logistic.py:758: ConvergenceWarning: lbfgs failed to converge. Increase the number of iterations.\n",
      "  \"of iterations.\", ConvergenceWarning)\n"
     ]
    },
    {
     "name": "stdout",
     "output_type": "stream",
     "text": [
      "\n",
      "Prediction results: \n",
      "Area under the ROC curve:  0.799759961593855\n",
      "Accuracy: 0.9985632183908046\n",
      "f1: 0.6666666666666665\n",
      "Precision: 0.75\n",
      "Recall: 0.6\n",
      "tn 2082 fp 1 fn 2 tp 3\n",
      "\n",
      "Label:  K402\n",
      "Boundary is set to:  0.8048306217374189\n"
     ]
    },
    {
     "name": "stderr",
     "output_type": "stream",
     "text": [
      "/Users/wesleyfitters/anaconda3/lib/python3.7/site-packages/sklearn/linear_model/logistic.py:758: ConvergenceWarning: lbfgs failed to converge. Increase the number of iterations.\n",
      "  \"of iterations.\", ConvergenceWarning)\n",
      "/Users/wesleyfitters/anaconda3/lib/python3.7/site-packages/sklearn/linear_model/logistic.py:758: ConvergenceWarning: lbfgs failed to converge. Increase the number of iterations.\n",
      "  \"of iterations.\", ConvergenceWarning)\n",
      "/Users/wesleyfitters/anaconda3/lib/python3.7/site-packages/sklearn/linear_model/logistic.py:758: ConvergenceWarning: lbfgs failed to converge. Increase the number of iterations.\n",
      "  \"of iterations.\", ConvergenceWarning)\n",
      "/Users/wesleyfitters/anaconda3/lib/python3.7/site-packages/sklearn/linear_model/logistic.py:758: ConvergenceWarning: lbfgs failed to converge. Increase the number of iterations.\n",
      "  \"of iterations.\", ConvergenceWarning)\n",
      "/Users/wesleyfitters/anaconda3/lib/python3.7/site-packages/sklearn/linear_model/logistic.py:758: ConvergenceWarning: lbfgs failed to converge. Increase the number of iterations.\n",
      "  \"of iterations.\", ConvergenceWarning)\n",
      "/Users/wesleyfitters/anaconda3/lib/python3.7/site-packages/sklearn/linear_model/logistic.py:758: ConvergenceWarning: lbfgs failed to converge. Increase the number of iterations.\n",
      "  \"of iterations.\", ConvergenceWarning)\n",
      "/Users/wesleyfitters/anaconda3/lib/python3.7/site-packages/sklearn/linear_model/logistic.py:758: ConvergenceWarning: lbfgs failed to converge. Increase the number of iterations.\n",
      "  \"of iterations.\", ConvergenceWarning)\n",
      "/Users/wesleyfitters/anaconda3/lib/python3.7/site-packages/sklearn/linear_model/logistic.py:758: ConvergenceWarning: lbfgs failed to converge. Increase the number of iterations.\n",
      "  \"of iterations.\", ConvergenceWarning)\n"
     ]
    },
    {
     "name": "stdout",
     "output_type": "stream",
     "text": [
      "\n",
      "Prediction results: \n",
      "Area under the ROC curve:  0.75\n",
      "Accuracy: 0.9990421455938697\n",
      "f1: 0.6666666666666666\n",
      "Precision: 1.0\n",
      "Recall: 0.5\n",
      "tn 2084 fp 0 fn 2 tp 2\n",
      "\n",
      "Label:  K305\n",
      "Boundary is set to:  0.8243633130229433\n"
     ]
    },
    {
     "name": "stderr",
     "output_type": "stream",
     "text": [
      "/Users/wesleyfitters/anaconda3/lib/python3.7/site-packages/sklearn/linear_model/logistic.py:758: ConvergenceWarning: lbfgs failed to converge. Increase the number of iterations.\n",
      "  \"of iterations.\", ConvergenceWarning)\n",
      "/Users/wesleyfitters/anaconda3/lib/python3.7/site-packages/sklearn/linear_model/logistic.py:758: ConvergenceWarning: lbfgs failed to converge. Increase the number of iterations.\n",
      "  \"of iterations.\", ConvergenceWarning)\n",
      "/Users/wesleyfitters/anaconda3/lib/python3.7/site-packages/sklearn/linear_model/logistic.py:758: ConvergenceWarning: lbfgs failed to converge. Increase the number of iterations.\n",
      "  \"of iterations.\", ConvergenceWarning)\n",
      "/Users/wesleyfitters/anaconda3/lib/python3.7/site-packages/sklearn/linear_model/logistic.py:758: ConvergenceWarning: lbfgs failed to converge. Increase the number of iterations.\n",
      "  \"of iterations.\", ConvergenceWarning)\n",
      "/Users/wesleyfitters/anaconda3/lib/python3.7/site-packages/sklearn/linear_model/logistic.py:758: ConvergenceWarning: lbfgs failed to converge. Increase the number of iterations.\n",
      "  \"of iterations.\", ConvergenceWarning)\n",
      "/Users/wesleyfitters/anaconda3/lib/python3.7/site-packages/sklearn/linear_model/logistic.py:758: ConvergenceWarning: lbfgs failed to converge. Increase the number of iterations.\n",
      "  \"of iterations.\", ConvergenceWarning)\n",
      "/Users/wesleyfitters/anaconda3/lib/python3.7/site-packages/sklearn/linear_model/logistic.py:758: ConvergenceWarning: lbfgs failed to converge. Increase the number of iterations.\n",
      "  \"of iterations.\", ConvergenceWarning)\n",
      "/Users/wesleyfitters/anaconda3/lib/python3.7/site-packages/sklearn/linear_model/logistic.py:758: ConvergenceWarning: lbfgs failed to converge. Increase the number of iterations.\n",
      "  \"of iterations.\", ConvergenceWarning)\n",
      "/Users/wesleyfitters/anaconda3/lib/python3.7/site-packages/sklearn/linear_model/logistic.py:758: ConvergenceWarning: lbfgs failed to converge. Increase the number of iterations.\n",
      "  \"of iterations.\", ConvergenceWarning)\n"
     ]
    },
    {
     "name": "stdout",
     "output_type": "stream",
     "text": [
      "\n",
      "Prediction results: \n",
      "Area under the ROC curve:  0.9\n",
      "Accuracy: 0.9995210727969349\n",
      "f1: 0.888888888888889\n",
      "Precision: 1.0\n",
      "Recall: 0.8\n",
      "tn 2083 fp 0 fn 1 tp 4\n",
      "\n",
      "Label:  K071\n",
      "Boundary is set to:  0.7698544126651468\n",
      "\n",
      "Label:  K097\n",
      "Boundary is set to:  0.8266954653424617\n",
      "\n",
      "Label:  K124\n",
      "Boundary is set to:  0.8845122400517309\n",
      "\n",
      "Label:  K128\n",
      "Boundary is set to:  0.7525199591873765\n",
      "\n",
      "Label:  K159\n",
      "Boundary is set to:  0.7283456451164059\n",
      "\n",
      "Label:  K184\n",
      "Boundary is set to:  0.6298304810739711\n",
      "\n",
      "Label:  K189\n",
      "Boundary is set to:  0.7474264046781771\n",
      "\n",
      "Label:  K206\n",
      "Boundary is set to:  0.8059338513051981\n",
      "\n",
      "Label:  K225\n",
      "Boundary is set to:  0.7227470601760492\n",
      "\n",
      "Label:  K270\n",
      "Boundary is set to:  0.6670942327576516\n",
      "\n",
      "Label:  K304\n",
      "Boundary is set to:  0.6061800373193578\n",
      "\n",
      "Label:  K405\n",
      "Boundary is set to:  0.8294090524963054\n",
      "\n",
      "Label:  K406\n",
      "Boundary is set to:  0.6861307688075114\n",
      "\n",
      "Label:  K424\n",
      "Boundary is set to:  0.7974031523034429\n",
      "\n",
      "Label:  K430\n",
      "Boundary is set to:  0.8820679461009083\n",
      "\n",
      "Label:  K703\n",
      "Boundary is set to:  0.7789797442796741\n",
      "\n",
      "Label:  K704\n",
      "Boundary is set to:  0.7807468641783332\n",
      "\n",
      "Label:  K707\n",
      "Boundary is set to:  0.6839862197165006\n",
      "\n",
      "Label:  K711\n",
      "Boundary is set to:  0.7565255220206187\n",
      "\n",
      "Label:  K561\n",
      "Boundary is set to:  0.7836740937920208\n",
      "\n",
      "Label:  K504\n",
      "Boundary is set to:  0.7760184321476016\n",
      "\n",
      "Label:  K145\n",
      "Boundary is set to:  0.7856204482313128\n",
      "\n",
      "Label:  K250\n",
      "Boundary is set to:  0.7990394190544982\n",
      "\n",
      "Label:  a12in\n",
      "Boundary is set to:  0.8339441072149688\n",
      "\n",
      "Label:  a12out\n",
      "Boundary is set to:  0.8316789559402853\n",
      "\n",
      "Label:  n211in\n",
      "Boundary is set to:  0.8760953906538197\n",
      "\n",
      "Label:  n211out\n",
      "Boundary is set to:  0.8634860681417491\n",
      "\n",
      "Label:  n141in\n",
      "Boundary is set to:  0.7597328303748593\n",
      "\n",
      "Label:  n141out\n",
      "Boundary is set to:  0.7776867194037409\n",
      "\n",
      "Label:  n142in\n",
      "Boundary is set to:  0.7738571337715838\n",
      "\n",
      "Label:  n142out\n",
      "Boundary is set to:  0.8053433886466536\n",
      "\n",
      "Label:  n143in\n",
      "Boundary is set to:  0.7722724065675556\n",
      "\n",
      "Label:  n143out\n",
      "Boundary is set to:  0.6501212945960191\n"
     ]
    }
   ],
   "source": [
    "c1,c2,c3,c4 = predictor(fpd,intersections,'lr',50)"
   ]
  },
  {
   "cell_type": "markdown",
   "metadata": {},
   "source": [
    "# Visualize prediction results "
   ]
  },
  {
   "cell_type": "markdown",
   "metadata": {},
   "source": [
    "## Bar group per intersection with AUC/F1/Precision"
   ]
  },
  {
   "cell_type": "code",
   "execution_count": 14,
   "metadata": {},
   "outputs": [],
   "source": [
    "sel = ['K302','K173','K414','K158','K402','K305']"
   ]
  },
  {
   "cell_type": "code",
   "execution_count": 23,
   "metadata": {},
   "outputs": [],
   "source": [
    "scores = c2"
   ]
  },
  {
   "cell_type": "code",
   "execution_count": 24,
   "metadata": {},
   "outputs": [],
   "source": [
    "ints = scores.keys()\n",
    "\n",
    "auc=[]\n",
    "acc=[]\n",
    "f1=[]\n",
    "prec=[]\n",
    "\n",
    "for i in ints:\n",
    "    if i in sel:\n",
    "        auc.append(scores[i][0])\n",
    "        acc.append(scores[i][1])\n",
    "        f1.append(scores[i][2])\n",
    "        prec.append(scores[i][3])\n",
    "    else: pass"
   ]
  },
  {
   "cell_type": "code",
   "execution_count": 34,
   "metadata": {},
   "outputs": [
    {
     "data": {
      "image/png": "[encoded data removed]",
      "text/plain": [
       "<Figure size 1080x720 with 1 Axes>"
      ]
     },
     "metadata": {
      "needs_background": "light"
     },
     "output_type": "display_data"
    }
   ],
   "source": [
    "plot_scores(auc,f1,prec,'Random Forest')"
   ]
  },
  {
   "cell_type": "markdown",
   "metadata": {},
   "source": [
    "### Random Forest"
   ]
  },
  {
   "cell_type": "code",
   "execution_count": 197,
   "metadata": {},
   "outputs": [
    {
     "data": {
      "image/png": "[encoded data removed]",
      "text/plain": [
       "<Figure size 1080x720 with 1 Axes>"
      ]
     },
     "metadata": {
      "needs_background": "light"
     },
     "output_type": "display_data"
    }
   ],
   "source": [
    "plot_scores(auc,f1,prec,'Random Forest')"
   ]
  },
  {
   "cell_type": "markdown",
   "metadata": {},
   "source": [
    "### Dec. Tree"
   ]
  },
  {
   "cell_type": "code",
   "execution_count": 22,
   "metadata": {},
   "outputs": [
    {
     "data": {
      "image/png": "[encoded data removed]",
      "text/plain": [
       "<Figure size 1080x720 with 1 Axes>"
      ]
     },
     "metadata": {
      "needs_background": "light"
     },
     "output_type": "display_data"
    }
   ],
   "source": [
    "plot_scores(auc,f1,prec,'Dec. Tree')"
   ]
  },
  {
   "cell_type": "markdown",
   "metadata": {},
   "source": [
    "### Logistic Regression"
   ]
  },
  {
   "cell_type": "code",
   "execution_count": 25,
   "metadata": {},
   "outputs": [
    {
     "data": {
      "image/png": "[encoded data removed]",
      "text/plain": [
       "<Figure size 1080x720 with 1 Axes>"
      ]
     },
     "metadata": {
      "needs_background": "light"
     },
     "output_type": "display_data"
    }
   ],
   "source": [
    "plot_scores(auc,f1,prec,'Logistic regression')"
   ]
  },
  {
   "cell_type": "markdown",
   "metadata": {},
   "source": [
    "## Compare all intersections' ROC and see which ones are scoring least"
   ]
  },
  {
   "cell_type": "code",
   "execution_count": 249,
   "metadata": {},
   "outputs": [],
   "source": [
    "ints = a2.keys()\n",
    "\n",
    "auc=[]\n",
    "acc=[]\n",
    "f1=[]\n",
    "prec=[]\n",
    "\n",
    "for i in ints:\n",
    "    auc.append(a2[i][0])\n",
    "    acc.append(a2[i][1])\n",
    "    f1.append(a2[i][2])\n",
    "    prec.append(a2[i][3])"
   ]
  },
  {
   "cell_type": "code",
   "execution_count": 243,
   "metadata": {},
   "outputs": [],
   "source": [
    "#plot_scores(auc,f1,prec,'All Intersections')"
   ]
  },
  {
   "cell_type": "code",
   "execution_count": 263,
   "metadata": {},
   "outputs": [],
   "source": [
    "def plot(auc,title,ints):\n",
    "    y_pos = np.arange(len(auc))\n",
    "    # Make the plot\n",
    "    plt.figure(figsize=(15,10))\n",
    "    plt.title(title)\n",
    "    plt.barh(y_pos,auc[::-1], color='#7f6d5f', edgecolor='white', label='auc')\n",
    "\n",
    "    # Add xticks on the middle of the group baxrs\n",
    "    plt.ylabel('group', fontweight='bold')\n",
    "    plt.yticks([r for r in range(len(auc))], list(ints)[::-1])\n",
    "\n",
    "    # Create legend & Show graphic\n",
    "    plt.legend()\n",
    "    plt.show()\n",
    "    return"
   ]
  },
  {
   "cell_type": "code",
   "execution_count": 264,
   "metadata": {},
   "outputs": [
    {
     "data": {
      "image/png": "[encoded data removed]",
      "text/plain": [
       "<Figure size 1500x1000 with 1 Axes>"
      ]
     },
     "metadata": {},
     "output_type": "display_data"
    }
   ],
   "source": [
    "plot(auc,'All Intersections',ints)"
   ]
  },
  {
   "cell_type": "markdown",
   "metadata": {},
   "source": [
    "## Iterate with increasing K"
   ]
  },
  {
   "cell_type": "code",
   "execution_count": 165,
   "metadata": {},
   "outputs": [],
   "source": [
    "outcomes = [a210,a225,a250,a275,a2100,a2150,a2300,a2500,a21000,a25000]"
   ]
  },
  {
   "cell_type": "code",
   "execution_count": 169,
   "metadata": {},
   "outputs": [
    {
     "data": {
      "text/plain": [
       "['K302', 'K173', 'K414', 'K158', 'K402', 'K305']"
      ]
     },
     "execution_count": 169,
     "metadata": {},
     "output_type": "execute_result"
    }
   ],
   "source": [
    "sel"
   ]
  },
  {
   "cell_type": "code",
   "execution_count": 170,
   "metadata": {
    "scrolled": false
   },
   "outputs": [],
   "source": [
    "li = []\n",
    "for s in sel:\n",
    "    auc = []\n",
    "    for outcome in outcomes:\n",
    "        scores = outcome\n",
    "        ints = scores.keys()\n",
    "        #auc=[]\n",
    "\n",
    "        for i in ints:\n",
    "            if i == s:\n",
    "                auc.append(scores[i][0])\n",
    "            else: pass\n",
    "    li.append(auc)"
   ]
  },
  {
   "cell_type": "code",
   "execution_count": 167,
   "metadata": {},
   "outputs": [],
   "source": [
    "ticks = ['10','25','50','75','100','150','300','500','1000','5000']\n",
    "ndf = pd.DataFrame(li)\n",
    "ndf.columns = ticks\n",
    "ndf = ndf.swapaxes(\"index\", \"columns\")\n",
    "ndf.columns = sel"
   ]
  },
  {
   "cell_type": "code",
   "execution_count": 187,
   "metadata": {},
   "outputs": [
    {
     "data": {
      "text/html": [
       "<div>\n",
       "<style scoped>\n",
       "    .dataframe tbody tr th:only-of-type {\n",
       "        vertical-align: middle;\n",
       "    }\n",
       "\n",
       "    .dataframe tbody tr th {\n",
       "        vertical-align: top;\n",
       "    }\n",
       "\n",
       "    .dataframe thead th {\n",
       "        text-align: right;\n",
       "    }\n",
       "</style>\n",
       "<table border=\"1\" class=\"dataframe\">\n",
       "  <thead>\n",
       "    <tr style=\"text-align: right;\">\n",
       "      <th></th>\n",
       "      <th>K302</th>\n",
       "      <th>K173</th>\n",
       "      <th>K414</th>\n",
       "      <th>K158</th>\n",
       "      <th>K402</th>\n",
       "      <th>K305</th>\n",
       "    </tr>\n",
       "  </thead>\n",
       "  <tbody>\n",
       "    <tr>\n",
       "      <th>10</th>\n",
       "      <td>0.749760</td>\n",
       "      <td>0.500000</td>\n",
       "      <td>0.666667</td>\n",
       "      <td>0.666667</td>\n",
       "      <td>0.500000</td>\n",
       "      <td>0.750000</td>\n",
       "    </tr>\n",
       "    <tr>\n",
       "      <th>25</th>\n",
       "      <td>1.000000</td>\n",
       "      <td>0.500000</td>\n",
       "      <td>0.833333</td>\n",
       "      <td>0.833094</td>\n",
       "      <td>0.625000</td>\n",
       "      <td>0.875000</td>\n",
       "    </tr>\n",
       "    <tr>\n",
       "      <th>50</th>\n",
       "      <td>0.749760</td>\n",
       "      <td>0.500000</td>\n",
       "      <td>0.875000</td>\n",
       "      <td>0.800000</td>\n",
       "      <td>0.875000</td>\n",
       "      <td>0.800000</td>\n",
       "    </tr>\n",
       "    <tr>\n",
       "      <th>75</th>\n",
       "      <td>0.714045</td>\n",
       "      <td>0.500000</td>\n",
       "      <td>0.800000</td>\n",
       "      <td>0.800000</td>\n",
       "      <td>0.875000</td>\n",
       "      <td>0.750000</td>\n",
       "    </tr>\n",
       "    <tr>\n",
       "      <th>100</th>\n",
       "      <td>0.714045</td>\n",
       "      <td>0.625000</td>\n",
       "      <td>0.714286</td>\n",
       "      <td>0.714045</td>\n",
       "      <td>0.875000</td>\n",
       "      <td>0.714286</td>\n",
       "    </tr>\n",
       "    <tr>\n",
       "      <th>150</th>\n",
       "      <td>0.650000</td>\n",
       "      <td>0.600000</td>\n",
       "      <td>0.625000</td>\n",
       "      <td>0.625000</td>\n",
       "      <td>0.875000</td>\n",
       "      <td>0.650000</td>\n",
       "    </tr>\n",
       "    <tr>\n",
       "      <th>300</th>\n",
       "      <td>0.587994</td>\n",
       "      <td>0.700000</td>\n",
       "      <td>0.548387</td>\n",
       "      <td>0.571187</td>\n",
       "      <td>0.749760</td>\n",
       "      <td>0.593750</td>\n",
       "    </tr>\n",
       "    <tr>\n",
       "      <th>500</th>\n",
       "      <td>0.546632</td>\n",
       "      <td>0.642857</td>\n",
       "      <td>0.516393</td>\n",
       "      <td>0.539230</td>\n",
       "      <td>0.649759</td>\n",
       "      <td>0.574758</td>\n",
       "    </tr>\n",
       "    <tr>\n",
       "      <th>1000</th>\n",
       "      <td>0.520585</td>\n",
       "      <td>0.566667</td>\n",
       "      <td>0.507812</td>\n",
       "      <td>0.527530</td>\n",
       "      <td>0.548144</td>\n",
       "      <td>0.541423</td>\n",
       "    </tr>\n",
       "    <tr>\n",
       "      <th>5000</th>\n",
       "      <td>0.513681</td>\n",
       "      <td>0.507713</td>\n",
       "      <td>0.515900</td>\n",
       "      <td>0.516012</td>\n",
       "      <td>0.512200</td>\n",
       "      <td>0.509368</td>\n",
       "    </tr>\n",
       "  </tbody>\n",
       "</table>\n",
       "</div>"
      ],
      "text/plain": [
       "          K302      K173      K414      K158      K402      K305\n",
       "10    0.749760  0.500000  0.666667  0.666667  0.500000  0.750000\n",
       "25    1.000000  0.500000  0.833333  0.833094  0.625000  0.875000\n",
       "50    0.749760  0.500000  0.875000  0.800000  0.875000  0.800000\n",
       "75    0.714045  0.500000  0.800000  0.800000  0.875000  0.750000\n",
       "100   0.714045  0.625000  0.714286  0.714045  0.875000  0.714286\n",
       "150   0.650000  0.600000  0.625000  0.625000  0.875000  0.650000\n",
       "300   0.587994  0.700000  0.548387  0.571187  0.749760  0.593750\n",
       "500   0.546632  0.642857  0.516393  0.539230  0.649759  0.574758\n",
       "1000  0.520585  0.566667  0.507812  0.527530  0.548144  0.541423\n",
       "5000  0.513681  0.507713  0.515900  0.516012  0.512200  0.509368"
      ]
     },
     "execution_count": 187,
     "metadata": {},
     "output_type": "execute_result"
    }
   ],
   "source": [
    "ndf"
   ]
  },
  {
   "cell_type": "code",
   "execution_count": 26,
   "metadata": {},
   "outputs": [
    {
     "ename": "NameError",
     "evalue": "name 'ndf' is not defined",
     "output_type": "error",
     "traceback": [
      "\u001b[0;31m---------------------------------------------------------------------------\u001b[0m",
      "\u001b[0;31mNameError\u001b[0m                                 Traceback (most recent call last)",
      "\u001b[0;32m<ipython-input-26-35258730ad7c>\u001b[0m in \u001b[0;36m<module>\u001b[0;34m\u001b[0m\n\u001b[1;32m      1\u001b[0m \u001b[0mplt\u001b[0m\u001b[0;34m.\u001b[0m\u001b[0mfigure\u001b[0m\u001b[0;34m(\u001b[0m\u001b[0mfigsize\u001b[0m\u001b[0;34m=\u001b[0m\u001b[0;34m(\u001b[0m\u001b[0;36m15\u001b[0m\u001b[0;34m,\u001b[0m\u001b[0;36m10\u001b[0m\u001b[0;34m)\u001b[0m\u001b[0;34m)\u001b[0m\u001b[0;34m\u001b[0m\u001b[0;34m\u001b[0m\u001b[0m\n\u001b[1;32m      2\u001b[0m \u001b[0mplt\u001b[0m\u001b[0;34m.\u001b[0m\u001b[0mtitle\u001b[0m\u001b[0;34m(\u001b[0m\u001b[0;34m'Random Forest AUC varying K'\u001b[0m\u001b[0;34m)\u001b[0m\u001b[0;34m\u001b[0m\u001b[0;34m\u001b[0m\u001b[0m\n\u001b[0;32m----> 3\u001b[0;31m \u001b[0mplt\u001b[0m\u001b[0;34m.\u001b[0m\u001b[0mbar\u001b[0m\u001b[0;34m(\u001b[0m\u001b[0mndf\u001b[0m\u001b[0;34m)\u001b[0m\u001b[0;34m\u001b[0m\u001b[0;34m\u001b[0m\u001b[0m\n\u001b[0m\u001b[1;32m      4\u001b[0m \u001b[0mplt\u001b[0m\u001b[0;34m.\u001b[0m\u001b[0mxlabel\u001b[0m\u001b[0;34m(\u001b[0m\u001b[0;34m'K'\u001b[0m\u001b[0;34m,\u001b[0m \u001b[0mfontweight\u001b[0m\u001b[0;34m=\u001b[0m\u001b[0;34m'bold'\u001b[0m\u001b[0;34m)\u001b[0m\u001b[0;34m\u001b[0m\u001b[0;34m\u001b[0m\u001b[0m\n\u001b[1;32m      5\u001b[0m \u001b[0mplt\u001b[0m\u001b[0;34m.\u001b[0m\u001b[0mxticks\u001b[0m\u001b[0;34m(\u001b[0m\u001b[0;34m[\u001b[0m\u001b[0mr\u001b[0m \u001b[0;32mfor\u001b[0m \u001b[0mr\u001b[0m \u001b[0;32min\u001b[0m \u001b[0mrange\u001b[0m\u001b[0;34m(\u001b[0m\u001b[0mlen\u001b[0m\u001b[0;34m(\u001b[0m\u001b[0mauc\u001b[0m\u001b[0;34m)\u001b[0m\u001b[0;34m)\u001b[0m\u001b[0;34m]\u001b[0m\u001b[0;34m,\u001b[0m \u001b[0mticks\u001b[0m\u001b[0;34m)\u001b[0m\u001b[0;34m\u001b[0m\u001b[0;34m\u001b[0m\u001b[0m\n",
      "\u001b[0;31mNameError\u001b[0m: name 'ndf' is not defined"
     ]
    },
    {
     "data": {
      "image/png": "[encoded data removed]",
      "text/plain": [
       "<Figure size 1080x720 with 1 Axes>"
      ]
     },
     "metadata": {
      "needs_background": "light"
     },
     "output_type": "display_data"
    }
   ],
   "source": [
    "plt.figure(figsize=(15,10))\n",
    "plt.title('Random Forest AUC varying K')\n",
    "plt.plot(ndf)\n",
    "plt.xlabel('K', fontweight='bold')\n",
    "plt.xticks([r for r in range(len(auc))], ticks)\n",
    "plt.legend(ndf.columns)\n",
    "plt.show()"
   ]
  },
  {
   "cell_type": "code",
   "execution_count": 191,
   "metadata": {
    "scrolled": false
   },
   "outputs": [
    {
     "data": {
      "image/png": "[encoded data removed]",
      "text/plain": [
       "<Figure size 1080x720 with 1 Axes>"
      ]
     },
     "metadata": {
      "needs_background": "light"
     },
     "output_type": "display_data"
    }
   ],
   "source": [
    "auc = li[2]\n",
    "barWidth = 0.25\n",
    "r1 = np.arange(len(auc))\n",
    "plt.figure(figsize=(15,10))\n",
    "plt.title(sel[2])\n",
    "plt.bar(r1, auc, color='#7f6d5f', width=barWidth, edgecolor='white', label='auc')\n",
    "\n",
    "# Add xticks on the middle of the group bars\n",
    "plt.xlabel('K', fontweight='bold')\n",
    "plt.xticks([r for r in range(len(auc))], ticks)\n",
    "\n",
    "# Create legend & Show graphic\n",
    "\n",
    "plt.legend()\n",
    "plt.show()"
   ]
  }
 ],
 "metadata": {
  "kernelspec": {
   "display_name": "Python 3",
   "language": "python",
   "name": "python3"
  },
  "language_info": {
   "codemirror_mode": {
    "name": "ipython",
    "version": 3
   },
   "file_extension": ".py",
   "mimetype": "text/x-python",
   "name": "python",
   "nbconvert_exporter": "python",
   "pygments_lexer": "ipython3",
   "version": "3.7.1"
  }
 },
 "nbformat": 4,
 "nbformat_minor": 2
}
